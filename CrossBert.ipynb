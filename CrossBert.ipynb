{
  "nbformat": 4,
  "nbformat_minor": 0,
  "metadata": {
    "accelerator": "GPU",
    "colab": {
      "name": "CrossBert.ipynb",
      "provenance": [],
      "collapsed_sections": []
    },
    "kernelspec": {
      "display_name": "Python 3",
      "name": "python3"
    },
    "language_info": {
      "name": "python"
    }
  },
  "cells": [
    {
      "cell_type": "code",
      "metadata": {
        "colab": {
          "base_uri": "https://localhost:8080/"
        },
        "id": "SrxwJYHkoisA",
        "outputId": "708586c9-95a0-4669-bdfd-7374718a8232"
      },
      "source": [
        "!nvidia-smi"
      ],
      "execution_count": null,
      "outputs": [
        {
          "output_type": "stream",
          "text": [
            "Sun Jun 27 14:39:37 2021       \n",
            "+-----------------------------------------------------------------------------+\n",
            "| NVIDIA-SMI 465.27       Driver Version: 460.32.03    CUDA Version: 11.2     |\n",
            "|-------------------------------+----------------------+----------------------+\n",
            "| GPU  Name        Persistence-M| Bus-Id        Disp.A | Volatile Uncorr. ECC |\n",
            "| Fan  Temp  Perf  Pwr:Usage/Cap|         Memory-Usage | GPU-Util  Compute M. |\n",
            "|                               |                      |               MIG M. |\n",
            "|===============================+======================+======================|\n",
            "|   0  Tesla P100-PCIE...  Off  | 00000000:00:04.0 Off |                    0 |\n",
            "| N/A   40C    P0    27W / 250W |      0MiB / 16280MiB |      0%      Default |\n",
            "|                               |                      |                  N/A |\n",
            "+-------------------------------+----------------------+----------------------+\n",
            "                                                                               \n",
            "+-----------------------------------------------------------------------------+\n",
            "| Processes:                                                                  |\n",
            "|  GPU   GI   CI        PID   Type   Process name                  GPU Memory |\n",
            "|        ID   ID                                                   Usage      |\n",
            "|=============================================================================|\n",
            "|  No running processes found                                                 |\n",
            "+-----------------------------------------------------------------------------+\n"
          ],
          "name": "stdout"
        }
      ]
    },
    {
      "cell_type": "code",
      "metadata": {
        "colab": {
          "base_uri": "https://localhost:8080/",
          "height": 232
        },
        "id": "7oE7aF6vnsZR",
        "outputId": "8de394a1-456c-48d2-ea16-2b06964694dd"
      },
      "source": [
        "#Creates arra\n",
        "import csv\n",
        "products = []\n",
        "with open('/content/products.csv') as csv_file:\n",
        "    csv_reader = csv.reader(csv_file, delimiter=',')\n",
        "    line_count = 0\n",
        "    for row in csv_reader:\n",
        "        products.append(row)\n",
        "        if line_count == 0:\n",
        "            print(f'Column names are {\", \".join(row)}')\n",
        "            line_count += 1\n",
        "        else:\n",
        "            #print(f'\\t product_id :{row[0]}| product_name: {row[1]} | aisle_id: {row[2]} | department_id : {row[3]}')\n",
        "            line_count += 1\n",
        "    print(f'Processed {line_count} lines.')"
      ],
      "execution_count": null,
      "outputs": [
        {
          "output_type": "error",
          "ename": "FileNotFoundError",
          "evalue": "ignored",
          "traceback": [
            "\u001b[0;31m---------------------------------------------------------------------------\u001b[0m",
            "\u001b[0;31mFileNotFoundError\u001b[0m                         Traceback (most recent call last)",
            "\u001b[0;32m<ipython-input-3-46817323af82>\u001b[0m in \u001b[0;36m<module>\u001b[0;34m()\u001b[0m\n\u001b[1;32m      2\u001b[0m \u001b[0;32mimport\u001b[0m \u001b[0mcsv\u001b[0m\u001b[0;34m\u001b[0m\u001b[0;34m\u001b[0m\u001b[0m\n\u001b[1;32m      3\u001b[0m \u001b[0mproducts\u001b[0m \u001b[0;34m=\u001b[0m \u001b[0;34m[\u001b[0m\u001b[0;34m]\u001b[0m\u001b[0;34m\u001b[0m\u001b[0;34m\u001b[0m\u001b[0m\n\u001b[0;32m----> 4\u001b[0;31m \u001b[0;32mwith\u001b[0m \u001b[0mopen\u001b[0m\u001b[0;34m(\u001b[0m\u001b[0;34m'/content/products.csv'\u001b[0m\u001b[0;34m)\u001b[0m \u001b[0;32mas\u001b[0m \u001b[0mcsv_file\u001b[0m\u001b[0;34m:\u001b[0m\u001b[0;34m\u001b[0m\u001b[0;34m\u001b[0m\u001b[0m\n\u001b[0m\u001b[1;32m      5\u001b[0m     \u001b[0mcsv_reader\u001b[0m \u001b[0;34m=\u001b[0m \u001b[0mcsv\u001b[0m\u001b[0;34m.\u001b[0m\u001b[0mreader\u001b[0m\u001b[0;34m(\u001b[0m\u001b[0mcsv_file\u001b[0m\u001b[0;34m,\u001b[0m \u001b[0mdelimiter\u001b[0m\u001b[0;34m=\u001b[0m\u001b[0;34m','\u001b[0m\u001b[0;34m)\u001b[0m\u001b[0;34m\u001b[0m\u001b[0;34m\u001b[0m\u001b[0m\n\u001b[1;32m      6\u001b[0m     \u001b[0mline_count\u001b[0m \u001b[0;34m=\u001b[0m \u001b[0;36m0\u001b[0m\u001b[0;34m\u001b[0m\u001b[0;34m\u001b[0m\u001b[0m\n",
            "\u001b[0;31mFileNotFoundError\u001b[0m: [Errno 2] No such file or directory: '/content/products.csv'"
          ]
        }
      ]
    },
    {
      "cell_type": "code",
      "metadata": {
        "id": "8eLZUOJ5nwbB"
      },
      "source": [
        "#Function gives aisle id of a product\n",
        "def getAisleID(product_id):\n",
        "    target = int(product_id)\n",
        "    skipfirstline = 0\n",
        "    for i in products:\n",
        "        if skipfirstline == 0:\n",
        "            skipfirstline = 1\n",
        "            continue\n",
        "        product = int(i[0])\n",
        "        if (product==target):\n",
        "            aisle_id = int(i[2])\n",
        "            return aisle_id\n",
        "    print(\"product not found\")\n",
        "        "
      ],
      "execution_count": null,
      "outputs": []
    },
    {
      "cell_type": "code",
      "metadata": {
        "id": "GNc1f8vvnyYU"
      },
      "source": [
        "#Remove categories not in analysis\n",
        "def removeCategories(order):\n",
        "    acceptedCategories = [24,83,123,120,21,84,115,107,91,112,86,31,116,37,78,96,\n",
        "                         67,16,121,77,98,54,72,50,108,36,52,63,69,17,61,66,4,\n",
        "                         32,130,53,106,3,38,81,88,117,131,128,92,19,104,49,59,\n",
        "                         26,43,9,129,35,93,79,51,45,94,23]\n",
        "    for i in order:\n",
        "        if i[1] not in acceptedCategories:\n",
        "            order.remove(i)\n",
        "    return order\n",
        "    "
      ],
      "execution_count": 1,
      "outputs": []
    },
    {
      "cell_type": "code",
      "metadata": {
        "colab": {
          "base_uri": "https://localhost:8080/",
          "height": 368
        },
        "id": "V7CYevxfn1J1",
        "outputId": "bab1db7c-1909-42cd-8a6a-7c21f989e259"
      },
      "source": [
        "#Creates training data\n",
        "import csv\n",
        "train_orders=[]\n",
        "with open('/content/order_products__prior.csv') as csv_file:\n",
        "    csv_reader = csv.reader(csv_file, delimiter=',')\n",
        "    line_count = 0\n",
        "    order_count=0\n",
        "    prev=-1\n",
        "    i=0\n",
        "    for row in csv_reader:\n",
        "        if line_count == 0:\n",
        "            print(f'Column names are {\", \".join(row)}')\n",
        "            line_count += 1\n",
        "        else:\n",
        "            #print(f'\\t product_id :{row[0]}| product_name: {row[1]} | aisle_id: {row[2]} | department_id : {row[3]}')\n",
        "                if (int(row[0])!=prev):\n",
        "                    order_count+=1\n",
        "                    i=1\n",
        "                order_basket = [int(row[0]),getAisleID(int(row[1]))]\n",
        "                train_orders.append(order_basket)\n",
        "                #train_orders = removeCategories(train_orders)\n",
        "                prev = int(row[0])\n",
        "                line_count += 1\n",
        "                if (order_count%500==0 and i==1):\n",
        "                    print(order_count, \"of\", \"30000\")\n",
        "                    i=0\n",
        "                if(order_count>30000):\n",
        "                #if(order_count>5000):\n",
        "                    break\n",
        "    print(f'Processed {line_count} lines.')"
      ],
      "execution_count": null,
      "outputs": [
        {
          "output_type": "stream",
          "text": [
            "Column names are order_id, product_id, add_to_cart_order, reordered\n"
          ],
          "name": "stdout"
        },
        {
          "output_type": "error",
          "ename": "KeyboardInterrupt",
          "evalue": "ignored",
          "traceback": [
            "\u001b[0;31m---------------------------------------------------------------------------\u001b[0m",
            "\u001b[0;31mKeyboardInterrupt\u001b[0m                         Traceback (most recent call last)",
            "\u001b[0;32m<ipython-input-7-1cafd5ea9626>\u001b[0m in \u001b[0;36m<module>\u001b[0;34m()\u001b[0m\n\u001b[1;32m     17\u001b[0m                     \u001b[0morder_count\u001b[0m\u001b[0;34m+=\u001b[0m\u001b[0;36m1\u001b[0m\u001b[0;34m\u001b[0m\u001b[0;34m\u001b[0m\u001b[0m\n\u001b[1;32m     18\u001b[0m                     \u001b[0mi\u001b[0m\u001b[0;34m=\u001b[0m\u001b[0;36m1\u001b[0m\u001b[0;34m\u001b[0m\u001b[0;34m\u001b[0m\u001b[0m\n\u001b[0;32m---> 19\u001b[0;31m                 \u001b[0morder_basket\u001b[0m \u001b[0;34m=\u001b[0m \u001b[0;34m[\u001b[0m\u001b[0mint\u001b[0m\u001b[0;34m(\u001b[0m\u001b[0mrow\u001b[0m\u001b[0;34m[\u001b[0m\u001b[0;36m0\u001b[0m\u001b[0;34m]\u001b[0m\u001b[0;34m)\u001b[0m\u001b[0;34m,\u001b[0m\u001b[0mgetAisleID\u001b[0m\u001b[0;34m(\u001b[0m\u001b[0mint\u001b[0m\u001b[0;34m(\u001b[0m\u001b[0mrow\u001b[0m\u001b[0;34m[\u001b[0m\u001b[0;36m1\u001b[0m\u001b[0;34m]\u001b[0m\u001b[0;34m)\u001b[0m\u001b[0;34m)\u001b[0m\u001b[0;34m]\u001b[0m\u001b[0;34m\u001b[0m\u001b[0;34m\u001b[0m\u001b[0m\n\u001b[0m\u001b[1;32m     20\u001b[0m                 \u001b[0mtrain_orders\u001b[0m\u001b[0;34m.\u001b[0m\u001b[0mappend\u001b[0m\u001b[0;34m(\u001b[0m\u001b[0morder_basket\u001b[0m\u001b[0;34m)\u001b[0m\u001b[0;34m\u001b[0m\u001b[0;34m\u001b[0m\u001b[0m\n\u001b[1;32m     21\u001b[0m                 \u001b[0;31m#train_orders = removeCategories(train_orders)\u001b[0m\u001b[0;34m\u001b[0m\u001b[0;34m\u001b[0m\u001b[0;34m\u001b[0m\u001b[0m\n",
            "\u001b[0;32m<ipython-input-5-c2fe2a73264d>\u001b[0m in \u001b[0;36mgetAisleID\u001b[0;34m(product_id)\u001b[0m\n\u001b[1;32m      7\u001b[0m             \u001b[0mskipfirstline\u001b[0m \u001b[0;34m=\u001b[0m \u001b[0;36m1\u001b[0m\u001b[0;34m\u001b[0m\u001b[0;34m\u001b[0m\u001b[0m\n\u001b[1;32m      8\u001b[0m             \u001b[0;32mcontinue\u001b[0m\u001b[0;34m\u001b[0m\u001b[0;34m\u001b[0m\u001b[0m\n\u001b[0;32m----> 9\u001b[0;31m         \u001b[0mproduct\u001b[0m \u001b[0;34m=\u001b[0m \u001b[0mint\u001b[0m\u001b[0;34m(\u001b[0m\u001b[0mi\u001b[0m\u001b[0;34m[\u001b[0m\u001b[0;36m0\u001b[0m\u001b[0;34m]\u001b[0m\u001b[0;34m)\u001b[0m\u001b[0;34m\u001b[0m\u001b[0;34m\u001b[0m\u001b[0m\n\u001b[0m\u001b[1;32m     10\u001b[0m         \u001b[0;32mif\u001b[0m \u001b[0;34m(\u001b[0m\u001b[0mproduct\u001b[0m\u001b[0;34m==\u001b[0m\u001b[0mtarget\u001b[0m\u001b[0;34m)\u001b[0m\u001b[0;34m:\u001b[0m\u001b[0;34m\u001b[0m\u001b[0;34m\u001b[0m\u001b[0m\n\u001b[1;32m     11\u001b[0m             \u001b[0maisle_id\u001b[0m \u001b[0;34m=\u001b[0m \u001b[0mint\u001b[0m\u001b[0;34m(\u001b[0m\u001b[0mi\u001b[0m\u001b[0;34m[\u001b[0m\u001b[0;36m2\u001b[0m\u001b[0;34m]\u001b[0m\u001b[0;34m)\u001b[0m\u001b[0;34m\u001b[0m\u001b[0;34m\u001b[0m\u001b[0m\n",
            "\u001b[0;31mKeyboardInterrupt\u001b[0m: "
          ]
        }
      ]
    },
    {
      "cell_type": "code",
      "metadata": {
        "colab": {
          "base_uri": "https://localhost:8080/"
        },
        "id": "iJJbGeGg_0SJ",
        "outputId": "33ec126e-3009-4aa1-fc9d-6d31d5cae585"
      },
      "source": [
        "#creates evaluation data\n",
        "import csv\n",
        "eval_orders=[]\n",
        "with open('/content/order_products__train.csv') as csv_file:\n",
        "    csv_reader = csv.reader(csv_file, delimiter=',')\n",
        "    line_count = 0\n",
        "    order_count=0\n",
        "    prev=-1\n",
        "    i=0\n",
        "    for row in csv_reader:\n",
        "        if line_count == 0:\n",
        "            print(f'Column names are {\", \".join(row)}')\n",
        "            line_count += 1\n",
        "        else:\n",
        "            #print(f'\\t product_id :{row[0]}| product_name: {row[1]} | aisle_id: {row[2]} | department_id : {row[3]}')\n",
        "                if (int(row[0])!=prev):\n",
        "                    order_count+=1\n",
        "                    i=1\n",
        "                order_basket_eval = [int(row[0]),getAisleID(int(row[1]))]\n",
        "                eval_orders.append(order_basket_eval)\n",
        "                #train_orders = removeCategories(train_orders)\n",
        "                prev = int(row[0])\n",
        "                line_count += 1\n",
        "                if (order_count%500==0 and i==1):\n",
        "                    print(order_count, \"of\", \"10000\")\n",
        "                    i=0\n",
        "                if(order_count>10000):\n",
        "                    break\n",
        "    print(f'Processed {line_count} lines.')"
      ],
      "execution_count": null,
      "outputs": [
        {
          "output_type": "stream",
          "text": [
            "Column names are order_id, product_id, add_to_cart_order, reordered\n",
            "500 of 10000\n",
            "1000 of 10000\n",
            "1500 of 10000\n",
            "2000 of 10000\n",
            "2500 of 10000\n",
            "3000 of 10000\n",
            "3500 of 10000\n",
            "4000 of 10000\n",
            "4500 of 10000\n",
            "5000 of 10000\n",
            "5500 of 10000\n",
            "6000 of 10000\n",
            "6500 of 10000\n",
            "7000 of 10000\n",
            "7500 of 10000\n",
            "8000 of 10000\n",
            "8500 of 10000\n",
            "9000 of 10000\n",
            "9500 of 10000\n",
            "10000 of 10000\n",
            "Processed 105406 lines.\n"
          ],
          "name": "stdout"
        }
      ]
    },
    {
      "cell_type": "code",
      "metadata": {
        "colab": {
          "base_uri": "https://localhost:8080/",
          "height": 232
        },
        "id": "lD9IX3XRpCvV",
        "outputId": "3dead6f6-8f38-4040-a76c-eb431398117f"
      },
      "source": [
        "#Data processing\n",
        "orders=[]\n",
        "order_binary=[[0 for x in range(135)] for y in range(1)]\n",
        "orders_binary = []\n",
        "for i in train_orders: \n",
        "    if(int(i[0])!=prev):\n",
        "        baskets=[]\n",
        "        orders.append(baskets)\n",
        "    baskets.append(i[1])\n",
        "    m = int(i[1])-1\n",
        "    order_count+=1\n",
        "    prev = int(i[0])\n"
      ],
      "execution_count": null,
      "outputs": [
        {
          "output_type": "error",
          "ename": "NameError",
          "evalue": "ignored",
          "traceback": [
            "\u001b[0;31m---------------------------------------------------------------------------\u001b[0m",
            "\u001b[0;31mNameError\u001b[0m                                 Traceback (most recent call last)",
            "\u001b[0;32m<ipython-input-22-437559bedc22>\u001b[0m in \u001b[0;36m<module>\u001b[0;34m()\u001b[0m\n\u001b[1;32m      2\u001b[0m \u001b[0morder_binary\u001b[0m\u001b[0;34m=\u001b[0m\u001b[0;34m[\u001b[0m\u001b[0;34m[\u001b[0m\u001b[0;36m0\u001b[0m \u001b[0;32mfor\u001b[0m \u001b[0mx\u001b[0m \u001b[0;32min\u001b[0m \u001b[0mrange\u001b[0m\u001b[0;34m(\u001b[0m\u001b[0;36m135\u001b[0m\u001b[0;34m)\u001b[0m\u001b[0;34m]\u001b[0m \u001b[0;32mfor\u001b[0m \u001b[0my\u001b[0m \u001b[0;32min\u001b[0m \u001b[0mrange\u001b[0m\u001b[0;34m(\u001b[0m\u001b[0;36m1\u001b[0m\u001b[0;34m)\u001b[0m\u001b[0;34m]\u001b[0m\u001b[0;34m\u001b[0m\u001b[0;34m\u001b[0m\u001b[0m\n\u001b[1;32m      3\u001b[0m \u001b[0morders_binary\u001b[0m \u001b[0;34m=\u001b[0m \u001b[0;34m[\u001b[0m\u001b[0;34m]\u001b[0m\u001b[0;34m\u001b[0m\u001b[0;34m\u001b[0m\u001b[0m\n\u001b[0;32m----> 4\u001b[0;31m \u001b[0;32mfor\u001b[0m \u001b[0mi\u001b[0m \u001b[0;32min\u001b[0m \u001b[0mtrain_orders\u001b[0m\u001b[0;34m:\u001b[0m\u001b[0;34m\u001b[0m\u001b[0;34m\u001b[0m\u001b[0m\n\u001b[0m\u001b[1;32m      5\u001b[0m     \u001b[0;32mif\u001b[0m\u001b[0;34m(\u001b[0m\u001b[0mint\u001b[0m\u001b[0;34m(\u001b[0m\u001b[0mi\u001b[0m\u001b[0;34m[\u001b[0m\u001b[0;36m0\u001b[0m\u001b[0;34m]\u001b[0m\u001b[0;34m)\u001b[0m\u001b[0;34m!=\u001b[0m\u001b[0mprev\u001b[0m\u001b[0;34m)\u001b[0m\u001b[0;34m:\u001b[0m\u001b[0;34m\u001b[0m\u001b[0;34m\u001b[0m\u001b[0m\n\u001b[1;32m      6\u001b[0m         \u001b[0mbaskets\u001b[0m\u001b[0;34m=\u001b[0m\u001b[0;34m[\u001b[0m\u001b[0;34m]\u001b[0m\u001b[0;34m\u001b[0m\u001b[0;34m\u001b[0m\u001b[0m\n",
            "\u001b[0;31mNameError\u001b[0m: name 'train_orders' is not defined"
          ]
        }
      ]
    },
    {
      "cell_type": "code",
      "metadata": {
        "id": "K-vXoLWTFS-D"
      },
      "source": [
        "#data processing evalusation set\n",
        "eval_fullorders=[]\n",
        "order_binary=[[0 for x in range(135)] for y in range(1)]\n",
        "orders_binary = []\n",
        "for i in eval_orders: \n",
        "    if(int(i[0])!=prev):\n",
        "        baskets=[]\n",
        "        eval_fullorders.append(baskets)\n",
        "    baskets.append(i[1])\n",
        "    m = int(i[1])-1\n",
        "    order_count+=1\n",
        "    prev = int(i[0])\n"
      ],
      "execution_count": null,
      "outputs": []
    },
    {
      "cell_type": "code",
      "metadata": {
        "colab": {
          "base_uri": "https://localhost:8080/"
        },
        "id": "HF1hMjspt0Su",
        "outputId": "10f707e1-e0b8-4ea0-d70f-9d6526c64fe0"
      },
      "source": [
        "#create orders of only 60 categories with the new number for categorie equal to the i-th accepted categorie in order of its' original number\n",
        "import numpy as np\n",
        "orders_bin = np.array(orders_binary)\n",
        "remove_cat = orders_bin.T\n",
        "acceptedCategories = [24,83,123,120,21,84,115,107,91,112,86,31,116,37,78,96,\n",
        "                         67,16,121,77,98,54,72,50,108,36,52,63,69,17,61,66,4,\n",
        "                         32,130,53,106,3,38,81,88,117,131,128,92,19,104,49,59,\n",
        "                         26,43,9,129,35,93,79,51,45,94,23]\n",
        "m=0\n",
        "count=0\n",
        "orders_binary_T=remove_cat.tolist()\n",
        "orders2=[]\n",
        "for i in orders:\n",
        "  accorders_T=[]\n",
        "  for j in i:\n",
        "    if (int(j) in acceptedCategories):\n",
        "        m+=1\n",
        "        accorders_T.append(j)\n",
        "    count+=1\n",
        "  orders2.append(accorders_T)\n",
        "print(\"orders:\",len(orders2))\n",
        "orders_60_T = np.array(accorders_T)\n",
        "orders_60 = orders_60_T.T\n",
        "count=0\n",
        "print(orders2[1])"
      ],
      "execution_count": null,
      "outputs": [
        {
          "output_type": "stream",
          "text": [
            "orders: 30001\n",
            "[120, 91, 123, 123, 91, 83, 35, 112]\n"
          ],
          "name": "stdout"
        }
      ]
    },
    {
      "cell_type": "code",
      "metadata": {
        "colab": {
          "base_uri": "https://localhost:8080/"
        },
        "id": "wWzeSej7AtKW",
        "outputId": "b14771b2-d718-4994-9347-f2b7c32f3607"
      },
      "source": [
        "#create orders of only 60 categories with the new number for categorie equal to the i-th accepted categorie in order of its' original number for evaluation set\n",
        "import numpy as np\n",
        "orders_bin = np.array(orders_binary)\n",
        "remove_cat = orders_bin.T\n",
        "acceptedCategories = [24,83,123,120,21,84,115,107,91,112,86,31,116,37,78,96,\n",
        "                         67,16,121,77,98,54,72,50,108,36,52,63,69,17,61,66,4,\n",
        "                         32,130,53,106,3,38,81,88,117,131,128,92,19,104,49,59,\n",
        "                         26,43,9,129,35,93,79,51,45,94,23]\n",
        "m=0\n",
        "count=0\n",
        "orders_binary_T=remove_cat.tolist()\n",
        "orders2_eval=[]\n",
        "for i in eval_fullorders:\n",
        "  accorders_T=[]\n",
        "  for j in i:\n",
        "    if (int(j) in acceptedCategories):\n",
        "        m+=1\n",
        "        accorders_T.append(j)\n",
        "    count+=1\n",
        "  orders2_eval.append(accorders_T)\n",
        "print(\"orders:\",len(orders2_eval))\n",
        "orders_60_T = np.array(accorders_T)\n",
        "orders_60_eval = orders_60_T.T\n",
        "count=0\n",
        "print(orders2_eval[0])"
      ],
      "execution_count": null,
      "outputs": [
        {
          "output_type": "stream",
          "text": [
            "orders: 10001\n",
            "[120, 108, 83, 83, 24, 24, 21]\n"
          ],
          "name": "stdout"
        }
      ]
    },
    {
      "cell_type": "code",
      "metadata": {
        "colab": {
          "base_uri": "https://localhost:8080/",
          "height": 232
        },
        "id": "uQKuI1OxxZm4",
        "outputId": "1710cd0b-d325-4abb-c352-6914f1677696"
      },
      "source": [
        "#create dataset file for training\n",
        "import random\n",
        "file1 = open(\"ArtData.txt\",\"w\")\n",
        "for i in orders2:\n",
        "  #for l in range(6):\n",
        "    str1 =\"\"\n",
        "    for j in i:\n",
        "      if(str(j) not in str1):\n",
        "        str1 = str1 + \" \"+ str(j) \n",
        "    str1 += \" end .\"\n",
        "    file1.write(str1)\n",
        "    #random.shuffle(i)\n",
        "file1.close()"
      ],
      "execution_count": null,
      "outputs": [
        {
          "output_type": "error",
          "ename": "NameError",
          "evalue": "ignored",
          "traceback": [
            "\u001b[0;31m---------------------------------------------------------------------------\u001b[0m",
            "\u001b[0;31mNameError\u001b[0m                                 Traceback (most recent call last)",
            "\u001b[0;32m<ipython-input-52-e4ffaa392250>\u001b[0m in \u001b[0;36m<module>\u001b[0;34m()\u001b[0m\n\u001b[1;32m      2\u001b[0m \u001b[0;32mimport\u001b[0m \u001b[0mrandom\u001b[0m\u001b[0;34m\u001b[0m\u001b[0;34m\u001b[0m\u001b[0m\n\u001b[1;32m      3\u001b[0m \u001b[0mfile1\u001b[0m \u001b[0;34m=\u001b[0m \u001b[0mopen\u001b[0m\u001b[0;34m(\u001b[0m\u001b[0;34m\"ArtData.txt\"\u001b[0m\u001b[0;34m,\u001b[0m\u001b[0;34m\"w\"\u001b[0m\u001b[0;34m)\u001b[0m\u001b[0;34m\u001b[0m\u001b[0;34m\u001b[0m\u001b[0m\n\u001b[0;32m----> 4\u001b[0;31m \u001b[0;32mfor\u001b[0m \u001b[0mi\u001b[0m \u001b[0;32min\u001b[0m \u001b[0morders2\u001b[0m\u001b[0;34m:\u001b[0m\u001b[0;34m\u001b[0m\u001b[0;34m\u001b[0m\u001b[0m\n\u001b[0m\u001b[1;32m      5\u001b[0m   \u001b[0;31m#for l in range(6):\u001b[0m\u001b[0;34m\u001b[0m\u001b[0;34m\u001b[0m\u001b[0;34m\u001b[0m\u001b[0m\n\u001b[1;32m      6\u001b[0m     \u001b[0mstr1\u001b[0m \u001b[0;34m=\u001b[0m\u001b[0;34m\"\"\u001b[0m\u001b[0;34m\u001b[0m\u001b[0;34m\u001b[0m\u001b[0m\n",
            "\u001b[0;31mNameError\u001b[0m: name 'orders2' is not defined"
          ]
        }
      ]
    },
    {
      "cell_type": "code",
      "metadata": {
        "id": "lmYjj7chxEUF"
      },
      "source": [
        "#create dataset file for evaluation\n",
        "import random\n",
        "file2 = open(\"artData.txt\",\"w\")\n",
        "for i in orders2_eval:\n",
        "    str2 =\"\"\n",
        "    for j in i:\n",
        "      if(str(j) not in str2):\n",
        "        str2 = str2 + \" \"+ str(j)\n",
        "    str2 += \".\"\n",
        "    file2.write(str2)\n",
        "    #random.shuffle(i)\n",
        "file2.close()"
      ],
      "execution_count": null,
      "outputs": []
    },
    {
      "cell_type": "code",
      "metadata": {
        "colab": {
          "base_uri": "https://localhost:8080/"
        },
        "id": "4VH47e60pwas",
        "outputId": "eaddbcea-521e-4048-9436-bf0a8fee0051"
      },
      "source": [
        "#Data is created and should be loaded, create tokenizer\n",
        "!pip install tokenizers\n",
        "from tokenizers import BertWordPieceTokenizer\n",
        "\n",
        "from pathlib import Path\n",
        "import glob\n",
        "from tokenizers import ByteLevelBPETokenizer\n",
        "\n",
        "tokenizer = BertWordPieceTokenizer(\n",
        "  clean_text=False,\n",
        "  handle_chinese_chars=False,\n",
        "  strip_accents=False,\n",
        "  lowercase=True,\n",
        ")\n",
        "files = ['myfileNoRepl6.txt']\n",
        "\n",
        "# Customize training\n",
        "tokenizer.train(\n",
        "  files,\n",
        "  vocab_size=100,\n",
        "  min_frequency=3,\n",
        "  show_progress=True,\n",
        "  special_tokens=['[PAD]', '[UNK]', '[CLS]', '[SEP]', '[MASK]'],\n",
        "  limit_alphabet=1000,\n",
        "  wordpieces_prefix=\"##\"\n",
        ")\n",
        "# Save files to disk\n",
        "tokenizer.save_model(\".\", \"Cross2Bert\")"
      ],
      "execution_count": null,
      "outputs": [
        {
          "output_type": "stream",
          "text": [
            "Collecting tokenizers\n",
            "\u001b[?25l  Downloading https://files.pythonhosted.org/packages/d4/e2/df3543e8ffdab68f5acc73f613de9c2b155ac47f162e725dcac87c521c11/tokenizers-0.10.3-cp37-cp37m-manylinux_2_5_x86_64.manylinux1_x86_64.manylinux_2_12_x86_64.manylinux2010_x86_64.whl (3.3MB)\n",
            "\u001b[K     |████████████████████████████████| 3.3MB 8.4MB/s \n",
            "\u001b[?25hInstalling collected packages: tokenizers\n",
            "Successfully installed tokenizers-0.10.3\n"
          ],
          "name": "stdout"
        },
        {
          "output_type": "execute_result",
          "data": {
            "text/plain": [
              "['./Cross2Bert-vocab.txt']"
            ]
          },
          "metadata": {
            "tags": []
          },
          "execution_count": 4
        }
      ]
    },
    {
      "cell_type": "code",
      "metadata": {
        "colab": {
          "base_uri": "https://localhost:8080/"
        },
        "id": "NbxX3O_mI7v4",
        "outputId": "d9262e8d-2ca6-40fc-f963-2e7a74a61d2d"
      },
      "source": [
        "#Tokenizer add special tokens\n",
        "from tokenizers.implementations import ByteLevelBPETokenizer\n",
        "from tokenizers.processors import BertProcessing\n",
        "\n",
        "tokenizer = BertWordPieceTokenizer(\n",
        "        \"/content/Cross2Bert-vocab.txt\"\n",
        "        )\n",
        "tokenizer._tokenizer.post_processor = BertProcessing(\n",
        "    (\"[SEP]\", tokenizer.token_to_id(\"[SEP]\")),\n",
        "    (\"[CLS]\", tokenizer.token_to_id(\"[CLS]\")),\n",
        ")\n",
        "tokenizer.enable_truncation(max_length=60)\n",
        "hello = tokenizer.encode(\"83 17 35\")\n",
        "print(\n",
        "    hello\n",
        ")\n",
        "print(hello.tokens)\n",
        "# Encoding(num_tokens=7, ...)\n",
        "# tokens: ['<s>', 'Mi', 'Ġestas', 'ĠJuli', 'en', '.', '</s>']"
      ],
      "execution_count": null,
      "outputs": [
        {
          "output_type": "stream",
          "text": [
            "Encoding(num_tokens=5, attributes=[ids, type_ids, tokens, offsets, attention_mask, special_tokens_mask, overflowing])\n",
            "['[CLS]', '83', '17', '35', '[SEP]']\n"
          ],
          "name": "stdout"
        }
      ]
    },
    {
      "cell_type": "code",
      "metadata": {
        "id": "U4H4TKzRGJIA"
      },
      "source": [
        "#Tokenize training set\n",
        "from torch.utils.data import Dataset\n",
        "\n",
        "class CrossBertDataset(Dataset):\n",
        "    def __init__(self, evaluate: bool = True):\n",
        "        tokenizer = BertWordPieceTokenizer(\n",
        "        \"/content/Cross2Bert-vocab.txt\"\n",
        "        )\n",
        "        tokenizer._tokenizer.post_processor = BertProcessing(\n",
        "            (\"[SEP]\", tokenizer.token_to_id(\"[SEP]\")),\n",
        "            (\"[CLS]\", tokenizer.token_to_id(\"[CLS]\")),\n",
        "        )\n",
        "        tokenizer.enable_truncation(max_length=100)\n",
        "        # or use the RobertaTokenizer from `transformers` directly.\n",
        "\n",
        "        self.examples = []\n",
        "\n",
        "        src_files = Path(\"/content/\").glob(\"myfileNoRepl6.txt\") if evaluate else Path(\"/content/\").glob(\"myfile_eval.txt\")\n",
        "        for src_file in src_files:\n",
        "            print(\"hello\", src_file)\n",
        "            lines = src_file.read_text(encoding=\"utf-8\").split(\".\")\n",
        "            \n",
        "            self.examples += [x.ids for x in tokenizer.encode_batch(lines)]\n",
        "\n",
        "    def __len__(self):\n",
        "        return len(self.examples)\n",
        "\n",
        "    def __getitem__(self, i):\n",
        "        # We’ll pad at the batch level.\n",
        "        return torch.tensor(self.examples[i])"
      ],
      "execution_count": null,
      "outputs": []
    },
    {
      "cell_type": "code",
      "metadata": {
        "id": "Naqu6_yZWxMN"
      },
      "source": [
        "#Tokenize evaluation set\n",
        "from torch.utils.data import Dataset\n",
        "\n",
        "class CrossBertDataset_eval(Dataset):\n",
        "    def __init__(self, evaluate: bool = False):\n",
        "        tokenizer = BertWordPieceTokenizer(\n",
        "        \"/content/Cross2Bert-vocab.txt\"\n",
        "        )\n",
        "        tokenizer._tokenizer.post_processor = BertProcessing(\n",
        "            (\"[SEP]\", tokenizer.token_to_id(\"[SEP]\")),\n",
        "            (\"[CLS]\", tokenizer.token_to_id(\"[CLS]\")),\n",
        "        )\n",
        "        tokenizer.enable_truncation(max_length=100)\n",
        "        # or use the RobertaTokenizer from `transformers` directly.\n",
        "\n",
        "        self.examples = []\n",
        "\n",
        "        src_files = Path(\"/content/\").glob(\"myfile.txt\") if evaluate else Path(\"/content/\").glob(\"myfile_evalNoRepl6.txt\")\n",
        "        for src_file in src_files:\n",
        "            print(\"hello\", src_file)\n",
        "            lines = src_file.read_text(encoding=\"utf-8\").split(\".\")\n",
        "            \n",
        "            self.examples += [x.ids for x in tokenizer.encode_batch(lines)]\n",
        "\n",
        "    def __len__(self):\n",
        "        return len(self.examples)\n",
        "\n",
        "    def __getitem__(self, i):\n",
        "        # We’ll pad at the batch level.\n",
        "        return torch.tensor(self.examples[i])"
      ],
      "execution_count": null,
      "outputs": []
    },
    {
      "cell_type": "code",
      "metadata": {
        "colab": {
          "base_uri": "https://localhost:8080/"
        },
        "id": "xRcC6VOiPY1v",
        "outputId": "fabf744c-93dc-4383-bb39-0a5c07ff69be"
      },
      "source": [
        "#Give parameters for funtction\n",
        "!pip install transformers\n",
        "from transformers import BertModel, BertConfig, BertForMaskedLM\n",
        "\n",
        "config = BertConfig(\n",
        "    vocab_size=100,\n",
        "    max_position_embeddings=514,\n",
        "    num_attention_heads=12,\n",
        "    num_hidden_layers=12,\n",
        "    type_vocab_size=1,\n",
        ")\n",
        "\n",
        "model = BertForMaskedLM(config)\n",
        "model.num_parameters()"
      ],
      "execution_count": null,
      "outputs": [
        {
          "output_type": "stream",
          "text": [
            "Collecting transformers\n",
            "\u001b[?25l  Downloading https://files.pythonhosted.org/packages/b5/d5/c6c23ad75491467a9a84e526ef2364e523d45e2b0fae28a7cbe8689e7e84/transformers-4.8.1-py3-none-any.whl (2.5MB)\n",
            "\r\u001b[K     |▏                               | 10kB 22.6MB/s eta 0:00:01\r\u001b[K     |▎                               | 20kB 25.8MB/s eta 0:00:01\r\u001b[K     |▍                               | 30kB 17.8MB/s eta 0:00:01\r\u001b[K     |▌                               | 40kB 14.6MB/s eta 0:00:01\r\u001b[K     |▋                               | 51kB 8.7MB/s eta 0:00:01\r\u001b[K     |▉                               | 61kB 8.6MB/s eta 0:00:01\r\u001b[K     |█                               | 71kB 9.7MB/s eta 0:00:01\r\u001b[K     |█                               | 81kB 10.1MB/s eta 0:00:01\r\u001b[K     |█▏                              | 92kB 10.1MB/s eta 0:00:01\r\u001b[K     |█▎                              | 102kB 8.5MB/s eta 0:00:01\r\u001b[K     |█▌                              | 112kB 8.5MB/s eta 0:00:01\r\u001b[K     |█▋                              | 122kB 8.5MB/s eta 0:00:01\r\u001b[K     |█▊                              | 133kB 8.5MB/s eta 0:00:01\r\u001b[K     |█▉                              | 143kB 8.5MB/s eta 0:00:01\r\u001b[K     |██                              | 153kB 8.5MB/s eta 0:00:01\r\u001b[K     |██                              | 163kB 8.5MB/s eta 0:00:01\r\u001b[K     |██▎                             | 174kB 8.5MB/s eta 0:00:01\r\u001b[K     |██▍                             | 184kB 8.5MB/s eta 0:00:01\r\u001b[K     |██▌                             | 194kB 8.5MB/s eta 0:00:01\r\u001b[K     |██▋                             | 204kB 8.5MB/s eta 0:00:01\r\u001b[K     |██▊                             | 215kB 8.5MB/s eta 0:00:01\r\u001b[K     |███                             | 225kB 8.5MB/s eta 0:00:01\r\u001b[K     |███                             | 235kB 8.5MB/s eta 0:00:01\r\u001b[K     |███▏                            | 245kB 8.5MB/s eta 0:00:01\r\u001b[K     |███▎                            | 256kB 8.5MB/s eta 0:00:01\r\u001b[K     |███▍                            | 266kB 8.5MB/s eta 0:00:01\r\u001b[K     |███▌                            | 276kB 8.5MB/s eta 0:00:01\r\u001b[K     |███▊                            | 286kB 8.5MB/s eta 0:00:01\r\u001b[K     |███▉                            | 296kB 8.5MB/s eta 0:00:01\r\u001b[K     |████                            | 307kB 8.5MB/s eta 0:00:01\r\u001b[K     |████                            | 317kB 8.5MB/s eta 0:00:01\r\u001b[K     |████▏                           | 327kB 8.5MB/s eta 0:00:01\r\u001b[K     |████▍                           | 337kB 8.5MB/s eta 0:00:01\r\u001b[K     |████▌                           | 348kB 8.5MB/s eta 0:00:01\r\u001b[K     |████▋                           | 358kB 8.5MB/s eta 0:00:01\r\u001b[K     |████▊                           | 368kB 8.5MB/s eta 0:00:01\r\u001b[K     |████▉                           | 378kB 8.5MB/s eta 0:00:01\r\u001b[K     |█████                           | 389kB 8.5MB/s eta 0:00:01\r\u001b[K     |█████▏                          | 399kB 8.5MB/s eta 0:00:01\r\u001b[K     |█████▎                          | 409kB 8.5MB/s eta 0:00:01\r\u001b[K     |█████▍                          | 419kB 8.5MB/s eta 0:00:01\r\u001b[K     |█████▌                          | 430kB 8.5MB/s eta 0:00:01\r\u001b[K     |█████▋                          | 440kB 8.5MB/s eta 0:00:01\r\u001b[K     |█████▉                          | 450kB 8.5MB/s eta 0:00:01\r\u001b[K     |██████                          | 460kB 8.5MB/s eta 0:00:01\r\u001b[K     |██████                          | 471kB 8.5MB/s eta 0:00:01\r\u001b[K     |██████▏                         | 481kB 8.5MB/s eta 0:00:01\r\u001b[K     |██████▎                         | 491kB 8.5MB/s eta 0:00:01\r\u001b[K     |██████▍                         | 501kB 8.5MB/s eta 0:00:01\r\u001b[K     |██████▋                         | 512kB 8.5MB/s eta 0:00:01\r\u001b[K     |██████▊                         | 522kB 8.5MB/s eta 0:00:01\r\u001b[K     |██████▉                         | 532kB 8.5MB/s eta 0:00:01\r\u001b[K     |███████                         | 542kB 8.5MB/s eta 0:00:01\r\u001b[K     |███████                         | 552kB 8.5MB/s eta 0:00:01\r\u001b[K     |███████▎                        | 563kB 8.5MB/s eta 0:00:01\r\u001b[K     |███████▍                        | 573kB 8.5MB/s eta 0:00:01\r\u001b[K     |███████▌                        | 583kB 8.5MB/s eta 0:00:01\r\u001b[K     |███████▋                        | 593kB 8.5MB/s eta 0:00:01\r\u001b[K     |███████▊                        | 604kB 8.5MB/s eta 0:00:01\r\u001b[K     |███████▉                        | 614kB 8.5MB/s eta 0:00:01\r\u001b[K     |████████                        | 624kB 8.5MB/s eta 0:00:01\r\u001b[K     |████████▏                       | 634kB 8.5MB/s eta 0:00:01\r\u001b[K     |████████▎                       | 645kB 8.5MB/s eta 0:00:01\r\u001b[K     |████████▍                       | 655kB 8.5MB/s eta 0:00:01\r\u001b[K     |████████▌                       | 665kB 8.5MB/s eta 0:00:01\r\u001b[K     |████████▊                       | 675kB 8.5MB/s eta 0:00:01\r\u001b[K     |████████▉                       | 686kB 8.5MB/s eta 0:00:01\r\u001b[K     |█████████                       | 696kB 8.5MB/s eta 0:00:01\r\u001b[K     |█████████                       | 706kB 8.5MB/s eta 0:00:01\r\u001b[K     |█████████▏                      | 716kB 8.5MB/s eta 0:00:01\r\u001b[K     |█████████▎                      | 727kB 8.5MB/s eta 0:00:01\r\u001b[K     |█████████▌                      | 737kB 8.5MB/s eta 0:00:01\r\u001b[K     |█████████▋                      | 747kB 8.5MB/s eta 0:00:01\r\u001b[K     |█████████▊                      | 757kB 8.5MB/s eta 0:00:01\r\u001b[K     |█████████▉                      | 768kB 8.5MB/s eta 0:00:01\r\u001b[K     |██████████                      | 778kB 8.5MB/s eta 0:00:01\r\u001b[K     |██████████▏                     | 788kB 8.5MB/s eta 0:00:01\r\u001b[K     |██████████▎                     | 798kB 8.5MB/s eta 0:00:01\r\u001b[K     |██████████▍                     | 808kB 8.5MB/s eta 0:00:01\r\u001b[K     |██████████▌                     | 819kB 8.5MB/s eta 0:00:01\r\u001b[K     |██████████▋                     | 829kB 8.5MB/s eta 0:00:01\r\u001b[K     |██████████▊                     | 839kB 8.5MB/s eta 0:00:01\r\u001b[K     |███████████                     | 849kB 8.5MB/s eta 0:00:01\r\u001b[K     |███████████                     | 860kB 8.5MB/s eta 0:00:01\r\u001b[K     |███████████▏                    | 870kB 8.5MB/s eta 0:00:01\r\u001b[K     |███████████▎                    | 880kB 8.5MB/s eta 0:00:01\r\u001b[K     |███████████▍                    | 890kB 8.5MB/s eta 0:00:01\r\u001b[K     |███████████▋                    | 901kB 8.5MB/s eta 0:00:01\r\u001b[K     |███████████▊                    | 911kB 8.5MB/s eta 0:00:01\r\u001b[K     |███████████▉                    | 921kB 8.5MB/s eta 0:00:01\r\u001b[K     |████████████                    | 931kB 8.5MB/s eta 0:00:01\r\u001b[K     |████████████                    | 942kB 8.5MB/s eta 0:00:01\r\u001b[K     |████████████▏                   | 952kB 8.5MB/s eta 0:00:01\r\u001b[K     |████████████▍                   | 962kB 8.5MB/s eta 0:00:01\r\u001b[K     |████████████▌                   | 972kB 8.5MB/s eta 0:00:01\r\u001b[K     |████████████▋                   | 983kB 8.5MB/s eta 0:00:01\r\u001b[K     |████████████▊                   | 993kB 8.5MB/s eta 0:00:01\r\u001b[K     |████████████▉                   | 1.0MB 8.5MB/s eta 0:00:01\r\u001b[K     |█████████████                   | 1.0MB 8.5MB/s eta 0:00:01\r\u001b[K     |█████████████▏                  | 1.0MB 8.5MB/s eta 0:00:01\r\u001b[K     |█████████████▎                  | 1.0MB 8.5MB/s eta 0:00:01\r\u001b[K     |█████████████▍                  | 1.0MB 8.5MB/s eta 0:00:01\r\u001b[K     |█████████████▌                  | 1.1MB 8.5MB/s eta 0:00:01\r\u001b[K     |█████████████▋                  | 1.1MB 8.5MB/s eta 0:00:01\r\u001b[K     |█████████████▉                  | 1.1MB 8.5MB/s eta 0:00:01\r\u001b[K     |██████████████                  | 1.1MB 8.5MB/s eta 0:00:01\r\u001b[K     |██████████████                  | 1.1MB 8.5MB/s eta 0:00:01\r\u001b[K     |██████████████▏                 | 1.1MB 8.5MB/s eta 0:00:01\r\u001b[K     |██████████████▎                 | 1.1MB 8.5MB/s eta 0:00:01\r\u001b[K     |██████████████▌                 | 1.1MB 8.5MB/s eta 0:00:01\r\u001b[K     |██████████████▋                 | 1.1MB 8.5MB/s eta 0:00:01\r\u001b[K     |██████████████▊                 | 1.1MB 8.5MB/s eta 0:00:01\r\u001b[K     |██████████████▉                 | 1.2MB 8.5MB/s eta 0:00:01\r\u001b[K     |███████████████                 | 1.2MB 8.5MB/s eta 0:00:01\r\u001b[K     |███████████████                 | 1.2MB 8.5MB/s eta 0:00:01\r\u001b[K     |███████████████▎                | 1.2MB 8.5MB/s eta 0:00:01\r\u001b[K     |███████████████▍                | 1.2MB 8.5MB/s eta 0:00:01\r\u001b[K     |███████████████▌                | 1.2MB 8.5MB/s eta 0:00:01\r\u001b[K     |███████████████▋                | 1.2MB 8.5MB/s eta 0:00:01\r\u001b[K     |███████████████▊                | 1.2MB 8.5MB/s eta 0:00:01\r\u001b[K     |████████████████                | 1.2MB 8.5MB/s eta 0:00:01\r\u001b[K     |████████████████                | 1.2MB 8.5MB/s eta 0:00:01\r\u001b[K     |████████████████▏               | 1.3MB 8.5MB/s eta 0:00:01\r\u001b[K     |████████████████▎               | 1.3MB 8.5MB/s eta 0:00:01\r\u001b[K     |████████████████▍               | 1.3MB 8.5MB/s eta 0:00:01\r\u001b[K     |████████████████▌               | 1.3MB 8.5MB/s eta 0:00:01\r\u001b[K     |████████████████▊               | 1.3MB 8.5MB/s eta 0:00:01\r\u001b[K     |████████████████▉               | 1.3MB 8.5MB/s eta 0:00:01\r\u001b[K     |█████████████████               | 1.3MB 8.5MB/s eta 0:00:01\r\u001b[K     |█████████████████               | 1.3MB 8.5MB/s eta 0:00:01\r\u001b[K     |█████████████████▏              | 1.3MB 8.5MB/s eta 0:00:01\r\u001b[K     |█████████████████▍              | 1.4MB 8.5MB/s eta 0:00:01\r\u001b[K     |█████████████████▌              | 1.4MB 8.5MB/s eta 0:00:01\r\u001b[K     |█████████████████▋              | 1.4MB 8.5MB/s eta 0:00:01\r\u001b[K     |█████████████████▊              | 1.4MB 8.5MB/s eta 0:00:01\r\u001b[K     |█████████████████▉              | 1.4MB 8.5MB/s eta 0:00:01\r\u001b[K     |██████████████████              | 1.4MB 8.5MB/s eta 0:00:01\r\u001b[K     |██████████████████▏             | 1.4MB 8.5MB/s eta 0:00:01\r\u001b[K     |██████████████████▎             | 1.4MB 8.5MB/s eta 0:00:01\r\u001b[K     |██████████████████▍             | 1.4MB 8.5MB/s eta 0:00:01\r\u001b[K     |██████████████████▌             | 1.4MB 8.5MB/s eta 0:00:01\r\u001b[K     |██████████████████▋             | 1.5MB 8.5MB/s eta 0:00:01\r\u001b[K     |██████████████████▉             | 1.5MB 8.5MB/s eta 0:00:01\r\u001b[K     |███████████████████             | 1.5MB 8.5MB/s eta 0:00:01\r\u001b[K     |███████████████████             | 1.5MB 8.5MB/s eta 0:00:01\r\u001b[K     |███████████████████▏            | 1.5MB 8.5MB/s eta 0:00:01\r\u001b[K     |███████████████████▎            | 1.5MB 8.5MB/s eta 0:00:01\r\u001b[K     |███████████████████▍            | 1.5MB 8.5MB/s eta 0:00:01\r\u001b[K     |███████████████████▋            | 1.5MB 8.5MB/s eta 0:00:01\r\u001b[K     |███████████████████▊            | 1.5MB 8.5MB/s eta 0:00:01\r\u001b[K     |███████████████████▉            | 1.5MB 8.5MB/s eta 0:00:01\r\u001b[K     |████████████████████            | 1.6MB 8.5MB/s eta 0:00:01\r\u001b[K     |████████████████████            | 1.6MB 8.5MB/s eta 0:00:01\r\u001b[K     |████████████████████▎           | 1.6MB 8.5MB/s eta 0:00:01\r\u001b[K     |████████████████████▍           | 1.6MB 8.5MB/s eta 0:00:01\r\u001b[K     |████████████████████▌           | 1.6MB 8.5MB/s eta 0:00:01\r\u001b[K     |████████████████████▋           | 1.6MB 8.5MB/s eta 0:00:01\r\u001b[K     |████████████████████▊           | 1.6MB 8.5MB/s eta 0:00:01\r\u001b[K     |████████████████████▉           | 1.6MB 8.5MB/s eta 0:00:01\r\u001b[K     |█████████████████████           | 1.6MB 8.5MB/s eta 0:00:01\r\u001b[K     |█████████████████████▏          | 1.6MB 8.5MB/s eta 0:00:01\r\u001b[K     |█████████████████████▎          | 1.7MB 8.5MB/s eta 0:00:01\r\u001b[K     |█████████████████████▍          | 1.7MB 8.5MB/s eta 0:00:01\r\u001b[K     |█████████████████████▌          | 1.7MB 8.5MB/s eta 0:00:01\r\u001b[K     |█████████████████████▊          | 1.7MB 8.5MB/s eta 0:00:01\r\u001b[K     |█████████████████████▉          | 1.7MB 8.5MB/s eta 0:00:01\r\u001b[K     |██████████████████████          | 1.7MB 8.5MB/s eta 0:00:01\r\u001b[K     |██████████████████████          | 1.7MB 8.5MB/s eta 0:00:01\r\u001b[K     |██████████████████████▏         | 1.7MB 8.5MB/s eta 0:00:01\r\u001b[K     |██████████████████████▎         | 1.7MB 8.5MB/s eta 0:00:01\r\u001b[K     |██████████████████████▌         | 1.8MB 8.5MB/s eta 0:00:01\r\u001b[K     |██████████████████████▋         | 1.8MB 8.5MB/s eta 0:00:01\r\u001b[K     |██████████████████████▊         | 1.8MB 8.5MB/s eta 0:00:01\r\u001b[K     |██████████████████████▉         | 1.8MB 8.5MB/s eta 0:00:01\r\u001b[K     |███████████████████████         | 1.8MB 8.5MB/s eta 0:00:01\r\u001b[K     |███████████████████████▏        | 1.8MB 8.5MB/s eta 0:00:01\r\u001b[K     |███████████████████████▎        | 1.8MB 8.5MB/s eta 0:00:01\r\u001b[K     |███████████████████████▍        | 1.8MB 8.5MB/s eta 0:00:01\r\u001b[K     |███████████████████████▌        | 1.8MB 8.5MB/s eta 0:00:01\r\u001b[K     |███████████████████████▋        | 1.8MB 8.5MB/s eta 0:00:01\r\u001b[K     |███████████████████████▊        | 1.9MB 8.5MB/s eta 0:00:01\r\u001b[K     |████████████████████████        | 1.9MB 8.5MB/s eta 0:00:01\r\u001b[K     |████████████████████████        | 1.9MB 8.5MB/s eta 0:00:01\r\u001b[K     |████████████████████████▏       | 1.9MB 8.5MB/s eta 0:00:01\r\u001b[K     |████████████████████████▎       | 1.9MB 8.5MB/s eta 0:00:01\r\u001b[K     |████████████████████████▍       | 1.9MB 8.5MB/s eta 0:00:01\r\u001b[K     |████████████████████████▋       | 1.9MB 8.5MB/s eta 0:00:01\r\u001b[K     |████████████████████████▊       | 1.9MB 8.5MB/s eta 0:00:01\r\u001b[K     |████████████████████████▉       | 1.9MB 8.5MB/s eta 0:00:01\r\u001b[K     |█████████████████████████       | 1.9MB 8.5MB/s eta 0:00:01\r\u001b[K     |█████████████████████████       | 2.0MB 8.5MB/s eta 0:00:01\r\u001b[K     |█████████████████████████▏      | 2.0MB 8.5MB/s eta 0:00:01\r\u001b[K     |█████████████████████████▍      | 2.0MB 8.5MB/s eta 0:00:01\r\u001b[K     |█████████████████████████▌      | 2.0MB 8.5MB/s eta 0:00:01\r\u001b[K     |█████████████████████████▋      | 2.0MB 8.5MB/s eta 0:00:01\r\u001b[K     |█████████████████████████▊      | 2.0MB 8.5MB/s eta 0:00:01\r\u001b[K     |█████████████████████████▉      | 2.0MB 8.5MB/s eta 0:00:01\r\u001b[K     |██████████████████████████      | 2.0MB 8.5MB/s eta 0:00:01\r\u001b[K     |██████████████████████████▏     | 2.0MB 8.5MB/s eta 0:00:01\r\u001b[K     |██████████████████████████▎     | 2.0MB 8.5MB/s eta 0:00:01\r\u001b[K     |██████████████████████████▍     | 2.1MB 8.5MB/s eta 0:00:01\r\u001b[K     |██████████████████████████▌     | 2.1MB 8.5MB/s eta 0:00:01\r\u001b[K     |██████████████████████████▋     | 2.1MB 8.5MB/s eta 0:00:01\r\u001b[K     |██████████████████████████▉     | 2.1MB 8.5MB/s eta 0:00:01\r\u001b[K     |███████████████████████████     | 2.1MB 8.5MB/s eta 0:00:01\r\u001b[K     |███████████████████████████     | 2.1MB 8.5MB/s eta 0:00:01\r\u001b[K     |███████████████████████████▏    | 2.1MB 8.5MB/s eta 0:00:01\r\u001b[K     |███████████████████████████▎    | 2.1MB 8.5MB/s eta 0:00:01\r\u001b[K     |███████████████████████████▌    | 2.1MB 8.5MB/s eta 0:00:01\r\u001b[K     |███████████████████████████▋    | 2.2MB 8.5MB/s eta 0:00:01\r\u001b[K     |███████████████████████████▊    | 2.2MB 8.5MB/s eta 0:00:01\r\u001b[K     |███████████████████████████▉    | 2.2MB 8.5MB/s eta 0:00:01\r\u001b[K     |████████████████████████████    | 2.2MB 8.5MB/s eta 0:00:01\r\u001b[K     |████████████████████████████    | 2.2MB 8.5MB/s eta 0:00:01\r\u001b[K     |████████████████████████████▎   | 2.2MB 8.5MB/s eta 0:00:01\r\u001b[K     |████████████████████████████▍   | 2.2MB 8.5MB/s eta 0:00:01\r\u001b[K     |████████████████████████████▌   | 2.2MB 8.5MB/s eta 0:00:01\r\u001b[K     |████████████████████████████▋   | 2.2MB 8.5MB/s eta 0:00:01\r\u001b[K     |████████████████████████████▊   | 2.2MB 8.5MB/s eta 0:00:01\r\u001b[K     |█████████████████████████████   | 2.3MB 8.5MB/s eta 0:00:01\r\u001b[K     |█████████████████████████████   | 2.3MB 8.5MB/s eta 0:00:01\r\u001b[K     |█████████████████████████████▏  | 2.3MB 8.5MB/s eta 0:00:01\r\u001b[K     |█████████████████████████████▎  | 2.3MB 8.5MB/s eta 0:00:01\r\u001b[K     |█████████████████████████████▍  | 2.3MB 8.5MB/s eta 0:00:01\r\u001b[K     |█████████████████████████████▌  | 2.3MB 8.5MB/s eta 0:00:01\r\u001b[K     |█████████████████████████████▊  | 2.3MB 8.5MB/s eta 0:00:01\r\u001b[K     |█████████████████████████████▉  | 2.3MB 8.5MB/s eta 0:00:01\r\u001b[K     |██████████████████████████████  | 2.3MB 8.5MB/s eta 0:00:01\r\u001b[K     |██████████████████████████████  | 2.3MB 8.5MB/s eta 0:00:01\r\u001b[K     |██████████████████████████████▏ | 2.4MB 8.5MB/s eta 0:00:01\r\u001b[K     |██████████████████████████████▍ | 2.4MB 8.5MB/s eta 0:00:01\r\u001b[K     |██████████████████████████████▌ | 2.4MB 8.5MB/s eta 0:00:01\r\u001b[K     |██████████████████████████████▋ | 2.4MB 8.5MB/s eta 0:00:01\r\u001b[K     |██████████████████████████████▊ | 2.4MB 8.5MB/s eta 0:00:01\r\u001b[K     |██████████████████████████████▉ | 2.4MB 8.5MB/s eta 0:00:01\r\u001b[K     |███████████████████████████████ | 2.4MB 8.5MB/s eta 0:00:01\r\u001b[K     |███████████████████████████████▏| 2.4MB 8.5MB/s eta 0:00:01\r\u001b[K     |███████████████████████████████▎| 2.4MB 8.5MB/s eta 0:00:01\r\u001b[K     |███████████████████████████████▍| 2.4MB 8.5MB/s eta 0:00:01\r\u001b[K     |███████████████████████████████▌| 2.5MB 8.5MB/s eta 0:00:01\r\u001b[K     |███████████████████████████████▋| 2.5MB 8.5MB/s eta 0:00:01\r\u001b[K     |███████████████████████████████▉| 2.5MB 8.5MB/s eta 0:00:01\r\u001b[K     |████████████████████████████████| 2.5MB 8.5MB/s eta 0:00:01\r\u001b[K     |████████████████████████████████| 2.5MB 8.5MB/s \n",
            "\u001b[?25hRequirement already satisfied: tokenizers<0.11,>=0.10.1 in /usr/local/lib/python3.7/dist-packages (from transformers) (0.10.3)\n",
            "Requirement already satisfied: numpy>=1.17 in /usr/local/lib/python3.7/dist-packages (from transformers) (1.19.5)\n",
            "Requirement already satisfied: tqdm>=4.27 in /usr/local/lib/python3.7/dist-packages (from transformers) (4.41.1)\n",
            "Requirement already satisfied: filelock in /usr/local/lib/python3.7/dist-packages (from transformers) (3.0.12)\n",
            "Requirement already satisfied: packaging in /usr/local/lib/python3.7/dist-packages (from transformers) (20.9)\n",
            "Requirement already satisfied: regex!=2019.12.17 in /usr/local/lib/python3.7/dist-packages (from transformers) (2019.12.20)\n",
            "Collecting huggingface-hub==0.0.12\n",
            "  Downloading https://files.pythonhosted.org/packages/2f/ee/97e253668fda9b17e968b3f97b2f8e53aa0127e8807d24a547687423fe0b/huggingface_hub-0.0.12-py3-none-any.whl\n",
            "Requirement already satisfied: requests in /usr/local/lib/python3.7/dist-packages (from transformers) (2.23.0)\n",
            "Requirement already satisfied: importlib-metadata; python_version < \"3.8\" in /usr/local/lib/python3.7/dist-packages (from transformers) (4.5.0)\n",
            "Requirement already satisfied: pyyaml in /usr/local/lib/python3.7/dist-packages (from transformers) (3.13)\n",
            "Collecting sacremoses\n",
            "\u001b[?25l  Downloading https://files.pythonhosted.org/packages/75/ee/67241dc87f266093c533a2d4d3d69438e57d7a90abb216fa076e7d475d4a/sacremoses-0.0.45-py3-none-any.whl (895kB)\n",
            "\u001b[K     |████████████████████████████████| 901kB 43.9MB/s \n",
            "\u001b[?25hRequirement already satisfied: pyparsing>=2.0.2 in /usr/local/lib/python3.7/dist-packages (from packaging->transformers) (2.4.7)\n",
            "Requirement already satisfied: typing-extensions in /usr/local/lib/python3.7/dist-packages (from huggingface-hub==0.0.12->transformers) (3.7.4.3)\n",
            "Requirement already satisfied: certifi>=2017.4.17 in /usr/local/lib/python3.7/dist-packages (from requests->transformers) (2021.5.30)\n",
            "Requirement already satisfied: urllib3!=1.25.0,!=1.25.1,<1.26,>=1.21.1 in /usr/local/lib/python3.7/dist-packages (from requests->transformers) (1.24.3)\n",
            "Requirement already satisfied: idna<3,>=2.5 in /usr/local/lib/python3.7/dist-packages (from requests->transformers) (2.10)\n",
            "Requirement already satisfied: chardet<4,>=3.0.2 in /usr/local/lib/python3.7/dist-packages (from requests->transformers) (3.0.4)\n",
            "Requirement already satisfied: zipp>=0.5 in /usr/local/lib/python3.7/dist-packages (from importlib-metadata; python_version < \"3.8\"->transformers) (3.4.1)\n",
            "Requirement already satisfied: joblib in /usr/local/lib/python3.7/dist-packages (from sacremoses->transformers) (1.0.1)\n",
            "Requirement already satisfied: click in /usr/local/lib/python3.7/dist-packages (from sacremoses->transformers) (7.1.2)\n",
            "Requirement already satisfied: six in /usr/local/lib/python3.7/dist-packages (from sacremoses->transformers) (1.15.0)\n",
            "Installing collected packages: huggingface-hub, sacremoses, transformers\n",
            "Successfully installed huggingface-hub-0.0.12 sacremoses-0.0.45 transformers-4.8.1\n"
          ],
          "name": "stdout"
        },
        {
          "output_type": "execute_result",
          "data": {
            "text/plain": [
              "86120548"
            ]
          },
          "metadata": {
            "tags": []
          },
          "execution_count": 7
        }
      ]
    },
    {
      "cell_type": "code",
      "metadata": {
        "id": "lI7JEvKEPu3i"
      },
      "source": [
        "#Load tokenizer for model\n",
        "from transformers import BertTokenizer\n",
        "\n",
        "tokenizer = BertTokenizer(\"/content/Cross2Bert-vocab.txt\", max_len=60)"
      ],
      "execution_count": null,
      "outputs": []
    },
    {
      "cell_type": "code",
      "metadata": {
        "id": "_eTzCKhNR0R7"
      },
      "source": [
        "#Mask the data\n",
        "from transformers import DataCollatorForLanguageModeling\n",
        "\n",
        "data_collator = DataCollatorForLanguageModeling(\n",
        "    tokenizer=tokenizer, mlm=True, mlm_probability=0.15\n",
        ")"
      ],
      "execution_count": null,
      "outputs": []
    },
    {
      "cell_type": "code",
      "metadata": {
        "colab": {
          "base_uri": "https://localhost:8080/"
        },
        "id": "JNpkdDjTMC50",
        "outputId": "36af8d18-4abb-4843-ca37-02a2dcef9d27"
      },
      "source": [
        "#Create training object\n",
        "from transformers import Trainer, TrainingArguments\n",
        "!pip install torch\n",
        "\n",
        "training_args = TrainingArguments(\n",
        "    output_dir=\"/content/CrossBert_10epoch_0.15_6shuffle\",\n",
        "    overwrite_output_dir=True,\n",
        "    num_train_epochs=10,\n",
        "    per_gpu_train_batch_size=64,\n",
        "    save_steps=10_000,\n",
        "    save_total_limit=2,\n",
        "    prediction_loss_only=True,\n",
        ")\n",
        "\n",
        "trainer = Trainer(\n",
        "    model=model,\n",
        "    args=training_args,\n",
        "    data_collator=data_collator,\n",
        "    train_dataset=CrossBertDataset(),\n",
        "    #eval_dataset=CrossBertDataset_eval(),\n",
        ")"
      ],
      "execution_count": null,
      "outputs": [
        {
          "output_type": "stream",
          "text": [
            "Requirement already satisfied: torch in /usr/local/lib/python3.7/dist-packages (1.9.0+cu102)\n",
            "Requirement already satisfied: typing-extensions in /usr/local/lib/python3.7/dist-packages (from torch) (3.7.4.3)\n",
            "hello /content/myfileNoRepl6.txt\n"
          ],
          "name": "stdout"
        }
      ]
    },
    {
      "cell_type": "code",
      "metadata": {
        "colab": {
          "base_uri": "https://localhost:8080/",
          "height": 396
        },
        "id": "o3lWGNcpEhK5",
        "outputId": "81e35f6f-5c41-47ea-c396-9d3a92aaa452"
      },
      "source": [
        "#Start training\n",
        "%%time\n",
        "import torch\n",
        "#trainer.num_examples()\n",
        "trainer.train()\n"
      ],
      "execution_count": null,
      "outputs": [
        {
          "output_type": "stream",
          "text": [
            "Using deprecated `--per_gpu_train_batch_size` argument which will be removed in a future version. Using `--per_device_train_batch_size` is preferred.\n",
            "Using deprecated `--per_gpu_train_batch_size` argument which will be removed in a future version. Using `--per_device_train_batch_size` is preferred.\n",
            "***** Running training *****\n",
            "  Num examples = 180007\n",
            "  Num Epochs = 10\n",
            "  Instantaneous batch size per device = 8\n",
            "  Total train batch size (w. parallel, distributed & accumulation) = 64\n",
            "  Gradient Accumulation steps = 1\n",
            "  Total optimization steps = 28130\n",
            "Using deprecated `--per_gpu_train_batch_size` argument which will be removed in a future version. Using `--per_device_train_batch_size` is preferred.\n"
          ],
          "name": "stderr"
        },
        {
          "output_type": "display_data",
          "data": {
            "text/html": [
              "\n",
              "    <div>\n",
              "      \n",
              "      <progress value='958' max='28130' style='width:300px; height:20px; vertical-align: middle;'></progress>\n",
              "      [  958/28130 02:22 < 1:07:27, 6.71 it/s, Epoch 0.34/10]\n",
              "    </div>\n",
              "    <table border=\"1\" class=\"dataframe\">\n",
              "  <thead>\n",
              "    <tr style=\"text-align: left;\">\n",
              "      <th>Step</th>\n",
              "      <th>Training Loss</th>\n",
              "    </tr>\n",
              "  </thead>\n",
              "  <tbody>\n",
              "    <tr>\n",
              "      <td>500</td>\n",
              "      <td>3.752000</td>\n",
              "    </tr>\n",
              "  </tbody>\n",
              "</table><p>"
            ],
            "text/plain": [
              "<IPython.core.display.HTML object>"
            ]
          },
          "metadata": {
            "tags": []
          }
        },
        {
          "output_type": "display_data",
          "data": {
            "text/html": [
              "\n",
              "    <div>\n",
              "      \n",
              "      <progress value='1160' max='28130' style='width:300px; height:20px; vertical-align: middle;'></progress>\n",
              "      [ 1160/28130 02:52 < 1:06:52, 6.72 it/s, Epoch 0.41/10]\n",
              "    </div>\n",
              "    <table border=\"1\" class=\"dataframe\">\n",
              "  <thead>\n",
              "    <tr style=\"text-align: left;\">\n",
              "      <th>Step</th>\n",
              "      <th>Training Loss</th>\n",
              "    </tr>\n",
              "  </thead>\n",
              "  <tbody>\n",
              "    <tr>\n",
              "      <td>500</td>\n",
              "      <td>3.752000</td>\n",
              "    </tr>\n",
              "    <tr>\n",
              "      <td>1000</td>\n",
              "      <td>3.436500</td>\n",
              "    </tr>\n",
              "  </tbody>\n",
              "</table><p>"
            ],
            "text/plain": [
              "<IPython.core.display.HTML object>"
            ]
          },
          "metadata": {
            "tags": []
          }
        }
      ]
    },
    {
      "cell_type": "code",
      "metadata": {
        "colab": {
          "base_uri": "https://localhost:8080/",
          "height": 122
        },
        "id": "DAqzN2DEIjch",
        "outputId": "2765c947-8cd5-435c-bf4e-c806daedd1ee"
      },
      "source": [
        "#Evaluate model\n",
        "trainer.evaluate()"
      ],
      "execution_count": null,
      "outputs": [
        {
          "output_type": "display_data",
          "data": {
            "text/html": [
              "\n",
              "    <div>\n",
              "      \n",
              "      <progress value='7501' max='7501' style='width:300px; height:20px; vertical-align: middle;'></progress>\n",
              "      [7501/7501 01:03]\n",
              "    </div>\n",
              "    "
            ],
            "text/plain": [
              "<IPython.core.display.HTML object>"
            ]
          },
          "metadata": {
            "tags": []
          }
        },
        {
          "output_type": "execute_result",
          "data": {
            "text/plain": [
              "{'epoch': 1.0,\n",
              " 'eval_loss': 3.2109930515289307,\n",
              " 'eval_runtime': 63.2628,\n",
              " 'eval_samples_per_second': 948.536,\n",
              " 'eval_steps_per_second': 118.569}"
            ]
          },
          "metadata": {
            "tags": []
          },
          "execution_count": 14
        }
      ]
    },
    {
      "cell_type": "code",
      "metadata": {
        "id": "wC3KMOgb9LT-"
      },
      "source": [
        "#Save model\n",
        "trainer.save_model(\"/content/Model_10Epoch_0.15_6shuffle\")"
      ],
      "execution_count": null,
      "outputs": []
    },
    {
      "cell_type": "code",
      "metadata": {
        "colab": {
          "base_uri": "https://localhost:8080/"
        },
        "id": "fgWA9LRYmJyE",
        "outputId": "73c9a7ba-e50a-419f-ec90-65aff34cae54"
      },
      "source": [
        "#Create object that calculated probability of masked object\n",
        "!pip install transformers\n",
        "from transformers import pipeline\n",
        "from transformers import BertTokenizer,BertConfig,BertForMaskedLM,BertModel\n",
        "\n",
        "fill_mask = pipeline(\n",
        "    \"fill-mask\",\n",
        "    model =\"/content/Model_10Epoch_0.15_6shuffle\" ,\n",
        "    tokenizer= BertTokenizer(\"/content/Cross2Bert-vocab.txt\", max_len=60),\n",
        "    top_k=2                 \n",
        ")"
      ],
      "execution_count": null,
      "outputs": [
        {
          "output_type": "stream",
          "text": [
            "Requirement already satisfied: transformers in /usr/local/lib/python3.7/dist-packages (4.8.1)\n",
            "Requirement already satisfied: packaging in /usr/local/lib/python3.7/dist-packages (from transformers) (20.9)\n",
            "Requirement already satisfied: numpy>=1.17 in /usr/local/lib/python3.7/dist-packages (from transformers) (1.19.5)\n",
            "Requirement already satisfied: pyyaml in /usr/local/lib/python3.7/dist-packages (from transformers) (3.13)\n",
            "Requirement already satisfied: filelock in /usr/local/lib/python3.7/dist-packages (from transformers) (3.0.12)\n",
            "Requirement already satisfied: requests in /usr/local/lib/python3.7/dist-packages (from transformers) (2.23.0)\n",
            "Requirement already satisfied: sacremoses in /usr/local/lib/python3.7/dist-packages (from transformers) (0.0.45)\n",
            "Requirement already satisfied: importlib-metadata; python_version < \"3.8\" in /usr/local/lib/python3.7/dist-packages (from transformers) (4.5.0)\n",
            "Requirement already satisfied: tqdm>=4.27 in /usr/local/lib/python3.7/dist-packages (from transformers) (4.41.1)\n",
            "Requirement already satisfied: regex!=2019.12.17 in /usr/local/lib/python3.7/dist-packages (from transformers) (2019.12.20)\n",
            "Requirement already satisfied: tokenizers<0.11,>=0.10.1 in /usr/local/lib/python3.7/dist-packages (from transformers) (0.10.3)\n",
            "Requirement already satisfied: huggingface-hub==0.0.12 in /usr/local/lib/python3.7/dist-packages (from transformers) (0.0.12)\n",
            "Requirement already satisfied: pyparsing>=2.0.2 in /usr/local/lib/python3.7/dist-packages (from packaging->transformers) (2.4.7)\n",
            "Requirement already satisfied: certifi>=2017.4.17 in /usr/local/lib/python3.7/dist-packages (from requests->transformers) (2021.5.30)\n",
            "Requirement already satisfied: chardet<4,>=3.0.2 in /usr/local/lib/python3.7/dist-packages (from requests->transformers) (3.0.4)\n",
            "Requirement already satisfied: idna<3,>=2.5 in /usr/local/lib/python3.7/dist-packages (from requests->transformers) (2.10)\n",
            "Requirement already satisfied: urllib3!=1.25.0,!=1.25.1,<1.26,>=1.21.1 in /usr/local/lib/python3.7/dist-packages (from requests->transformers) (1.24.3)\n",
            "Requirement already satisfied: joblib in /usr/local/lib/python3.7/dist-packages (from sacremoses->transformers) (1.0.1)\n",
            "Requirement already satisfied: click in /usr/local/lib/python3.7/dist-packages (from sacremoses->transformers) (7.1.2)\n",
            "Requirement already satisfied: six in /usr/local/lib/python3.7/dist-packages (from sacremoses->transformers) (1.15.0)\n",
            "Requirement already satisfied: zipp>=0.5 in /usr/local/lib/python3.7/dist-packages (from importlib-metadata; python_version < \"3.8\"->transformers) (3.4.1)\n",
            "Requirement already satisfied: typing-extensions>=3.6.4; python_version < \"3.8\" in /usr/local/lib/python3.7/dist-packages (from importlib-metadata; python_version < \"3.8\"->transformers) (3.7.4.3)\n"
          ],
          "name": "stdout"
        },
        {
          "output_type": "stream",
          "text": [
            "loading configuration file /content/Model_10Epoch_0.15_6shuffle/config.json\n",
            "Model config BertConfig {\n",
            "  \"architectures\": [\n",
            "    \"BertForMaskedLM\"\n",
            "  ],\n",
            "  \"attention_probs_dropout_prob\": 0.1,\n",
            "  \"gradient_checkpointing\": false,\n",
            "  \"hidden_act\": \"gelu\",\n",
            "  \"hidden_dropout_prob\": 0.1,\n",
            "  \"hidden_size\": 768,\n",
            "  \"initializer_range\": 0.02,\n",
            "  \"intermediate_size\": 3072,\n",
            "  \"layer_norm_eps\": 1e-12,\n",
            "  \"max_position_embeddings\": 514,\n",
            "  \"model_type\": \"bert\",\n",
            "  \"num_attention_heads\": 12,\n",
            "  \"num_hidden_layers\": 12,\n",
            "  \"pad_token_id\": 0,\n",
            "  \"position_embedding_type\": \"absolute\",\n",
            "  \"transformers_version\": \"4.8.1\",\n",
            "  \"type_vocab_size\": 1,\n",
            "  \"use_cache\": true,\n",
            "  \"vocab_size\": 100\n",
            "}\n",
            "\n",
            "loading configuration file /content/Model_10Epoch_0.15_6shuffle/config.json\n",
            "Model config BertConfig {\n",
            "  \"architectures\": [\n",
            "    \"BertForMaskedLM\"\n",
            "  ],\n",
            "  \"attention_probs_dropout_prob\": 0.1,\n",
            "  \"gradient_checkpointing\": false,\n",
            "  \"hidden_act\": \"gelu\",\n",
            "  \"hidden_dropout_prob\": 0.1,\n",
            "  \"hidden_size\": 768,\n",
            "  \"initializer_range\": 0.02,\n",
            "  \"intermediate_size\": 3072,\n",
            "  \"layer_norm_eps\": 1e-12,\n",
            "  \"max_position_embeddings\": 514,\n",
            "  \"model_type\": \"bert\",\n",
            "  \"num_attention_heads\": 12,\n",
            "  \"num_hidden_layers\": 12,\n",
            "  \"pad_token_id\": 0,\n",
            "  \"position_embedding_type\": \"absolute\",\n",
            "  \"transformers_version\": \"4.8.1\",\n",
            "  \"type_vocab_size\": 1,\n",
            "  \"use_cache\": true,\n",
            "  \"vocab_size\": 100\n",
            "}\n",
            "\n",
            "loading weights file /content/Model_10Epoch_0.15_6shuffle/pytorch_model.bin\n",
            "All model checkpoint weights were used when initializing BertForMaskedLM.\n",
            "\n",
            "All the weights of BertForMaskedLM were initialized from the model checkpoint at /content/Model_10Epoch_0.15_6shuffle.\n",
            "If your task is similar to the task the model of the checkpoint was trained on, you can already use BertForMaskedLM for predictions without further training.\n"
          ],
          "name": "stderr"
        }
      ]
    },
    {
      "cell_type": "code",
      "metadata": {
        "colab": {
          "base_uri": "https://localhost:8080/"
        },
        "id": "47R7ub42WV16",
        "outputId": "688f3c76-5d5c-48e9-dcf8-d6af037e0eea"
      },
      "source": [
        "fullTokens = [24,83,123,120,21,84,115,107,91,112,86,31,116,37,78,96,\n",
        "                         67,16,121,77,98,54,72,50,108,36,52,63,69,17,61,66,4,\n",
        "                         32,130,53,106,3,38,81,88,117,131,128,92,19,104,49,59,\n",
        "                         26,43,9,129,35,93,79,51,45,94,23]\n",
        "fullTokens.sort()\n",
        "print(fullTokens)"
      ],
      "execution_count": null,
      "outputs": [
        {
          "output_type": "stream",
          "text": [
            "[3, 4, 9, 16, 17, 19, 21, 23, 24, 26, 31, 32, 35, 36, 37, 38, 43, 45, 49, 50, 51, 52, 53, 54, 59, 61, 63, 66, 67, 69, 72, 77, 78, 79, 81, 83, 84, 86, 88, 91, 92, 93, 94, 96, 98, 104, 106, 107, 108, 112, 115, 116, 117, 120, 121, 123, 128, 129, 130, 131]\n"
          ],
          "name": "stdout"
        }
      ]
    },
    {
      "cell_type": "code",
      "metadata": {
        "id": "OtZrvgZymYjg"
      },
      "source": [
        "with open('artData.txt') as f:\n",
        "    lines = f.read()\n",
        "    currentline = lines.split(\".\")\n",
        "counts = []\n",
        "for i in currentline:\n",
        "  counts.append(i.count(' '))"
      ],
      "execution_count": null,
      "outputs": []
    },
    {
      "cell_type": "code",
      "metadata": {
        "colab": {
          "base_uri": "https://localhost:8080/",
          "height": 295
        },
        "id": "AdE_GK3qpFAv",
        "outputId": "cfac3dce-d9e6-49f5-cf0d-9d92f5e6d1aa"
      },
      "source": [
        "#distribution of the data length\n",
        "import numpy as np\n",
        "import random\n",
        "from matplotlib import pyplot as plt\n",
        "\n",
        "\n",
        "# fixed bin size\n",
        "bins = np.arange(-100, 100, 1) # fixed bin size\n",
        "\n",
        "plt.xlim([0, 25])\n",
        "\n",
        "plt.hist(counts, bins=bins, alpha=0.5)\n",
        "plt.title('Distribution Lengths Orders')\n",
        "plt.xlabel('Order Size')\n",
        "plt.ylabel('Count')\n",
        "\n",
        "plt.show()"
      ],
      "execution_count": null,
      "outputs": [
        {
          "output_type": "display_data",
          "data": {
            "image/png": "[encoded data removed]",
            "text/plain": [
              "<Figure size 432x288 with 1 Axes>"
            ]
          },
          "metadata": {
            "tags": []
          }
        }
      ]
    },
    {
      "cell_type": "code",
      "metadata": {
        "id": "6kRYAx7OXsRF"
      },
      "source": [
        "#Create artificial orders using bert\n",
        "import random\n",
        "import pandas as pd\n",
        "\n",
        "class artOrders():\n",
        "  def __init__(self):\n",
        "    self.artOrder= \"\"\n",
        "\n",
        "  def maskWord(self,orderList, fullTokens, length):\n",
        "      if(length>5):\n",
        "        length = length-2\n",
        "      order = \" \".join(orderList)\n",
        "      prev  = 0\n",
        "      artOrder =  \"\"\n",
        "      for j in fullTokens:\n",
        "        n = random.random()\n",
        "        strJ = str(j)\n",
        "        copyOrder = order.replace(strJ, '')\n",
        "        y = fill_mask.__call__(str(copyOrder), targets=strJ)\n",
        "        df = pd.DataFrame(y)\n",
        "        score =(df.loc[0]['score'])\n",
        "        probNot =(1-(1-score)**length)\n",
        "        if(n<probNot):\n",
        "          self.artOrder += strJ + \" \"\n",
        "      return\n",
        "\n",
        "  def main(self,order, fullTokens, length):\n",
        "      self.artOrder = \"\"\n",
        "      orderList = order.split(\" \")\n",
        "      orderList.remove(\"\")\n",
        "      if (length%2==0):\n",
        "          midpoint = length/2\n",
        "      else:\n",
        "          midpoint = (length+1)/2\n",
        "      orderList2 = orderList[0:int(midpoint)] + [\"[MASK]\"] + orderList[int(midpoint):]\n",
        "      self.maskWord(orderList2,fullTokens, length)\n",
        "      return self.artOrder\n"
      ],
      "execution_count": null,
      "outputs": []
    },
    {
      "cell_type": "code",
      "metadata": {
        "colab": {
          "background_save": true,
          "base_uri": "https://localhost:8080/"
        },
        "id": "TAfw97H5e53F",
        "outputId": "d314d613-bb74-4380-e442-b5547f9efc53"
      },
      "source": [
        "#Restructure artificial orders in binary data\n",
        "artDataset=[]\n",
        "with open('artData.txt') as f:\n",
        "    lines = f.read()\n",
        "    currentline = lines.split(\".\")\n",
        "dataset1 = artOrders()\n",
        "count = 0\n",
        "for i in currentline:\n",
        "  if(count%100==0):\n",
        "    print(count, \" of 10000\")\n",
        "  if(count == 10000):\n",
        "    break\n",
        "  fullTokens = [3, 4, 9, 16, 17, 19, 21, 23, 24, 26, 31, 32, 35, 36, 37, 38, 43, 45, 49, 50,\n",
        "                         51, 52, 53, 54, 59, 61, 63, 66, 67, 69, 72, 77, 78, 79, 81, 83, 84, 86, 88, \n",
        "                         91, 92, 93, 94, 96, 98, 104, 106, 107, 108, 112, 115, 116, 117, 120, 121, 123,\n",
        "                         128, 129, 130, 131]\n",
        "  artDataset.append(dataset1.main(i,fullTokens,random.choice(counts)))\n",
        "  count+=1\n",
        "\n"
      ],
      "execution_count": null,
      "outputs": [
        {
          "output_type": "stream",
          "text": [
            "0  of 10000\n",
            "100  of 10000\n",
            "200  of 10000\n",
            "300  of 10000\n",
            "400  of 10000\n",
            "500  of 10000\n",
            "600  of 10000\n",
            "700  of 10000\n",
            "800  of 10000\n",
            "900  of 10000\n",
            "1000  of 10000\n",
            "1100  of 10000\n",
            "1200  of 10000\n",
            "1300  of 10000\n",
            "1400  of 10000\n",
            "1500  of 10000\n",
            "1600  of 10000\n",
            "1700  of 10000\n",
            "1800  of 10000\n",
            "1900  of 10000\n",
            "2000  of 10000\n",
            "2100  of 10000\n",
            "2200  of 10000\n",
            "2300  of 10000\n",
            "2400  of 10000\n",
            "2500  of 10000\n",
            "2600  of 10000\n",
            "2700  of 10000\n",
            "2800  of 10000\n",
            "2900  of 10000\n",
            "3000  of 10000\n",
            "3100  of 10000\n",
            "3200  of 10000\n",
            "3300  of 10000\n",
            "3400  of 10000\n",
            "3500  of 10000\n",
            "3600  of 10000\n",
            "3700  of 10000\n",
            "3800  of 10000\n",
            "3900  of 10000\n",
            "4000  of 10000\n",
            "4100  of 10000\n",
            "4200  of 10000\n",
            "4300  of 10000\n",
            "4400  of 10000\n",
            "4500  of 10000\n",
            "4600  of 10000\n",
            "4700  of 10000\n",
            "4800  of 10000\n",
            "4900  of 10000\n",
            "5000  of 10000\n",
            "5100  of 10000\n",
            "5200  of 10000\n",
            "5300  of 10000\n",
            "5400  of 10000\n",
            "5500  of 10000\n",
            "5600  of 10000\n",
            "5700  of 10000\n",
            "5800  of 10000\n",
            "5900  of 10000\n",
            "6000  of 10000\n",
            "6100  of 10000\n",
            "6200  of 10000\n",
            "6300  of 10000\n",
            "6400  of 10000\n",
            "6500  of 10000\n",
            "6600  of 10000\n",
            "6700  of 10000\n",
            "6800  of 10000\n",
            "6900  of 10000\n",
            "7000  of 10000\n",
            "7100  of 10000\n",
            "7200  of 10000\n",
            "7300  of 10000\n",
            "7400  of 10000\n",
            "7500  of 10000\n",
            "7600  of 10000\n",
            "7700  of 10000\n",
            "7800  of 10000\n",
            "7900  of 10000\n",
            "8000  of 10000\n",
            "8100  of 10000\n",
            "8200  of 10000\n",
            "8300  of 10000\n",
            "8400  of 10000\n",
            "8500  of 10000\n",
            "8600  of 10000\n",
            "8700  of 10000\n",
            "8800  of 10000\n",
            "8900  of 10000\n",
            "9000  of 10000\n",
            "9100  of 10000\n",
            "9200  of 10000\n",
            "9300  of 10000\n",
            "9400  of 10000\n",
            "9500  of 10000\n",
            "9600  of 10000\n",
            "9700  of 10000\n",
            "9800  of 10000\n",
            "9900  of 10000\n",
            "10000  of 10000\n"
          ],
          "name": "stdout"
        }
      ]
    },
    {
      "cell_type": "code",
      "metadata": {
        "colab": {
          "background_save": true
        },
        "id": "jGgBYgbI_XFM",
        "outputId": "3a736cd3-2082-46a8-fdd5-66635b997248"
      },
      "source": [
        "#Create data to get the orders in binary numbers\n",
        "orders_binary= []\n",
        "fullTokens = [3, 4, 9, 16, 17, 19, 21, 23, 24, 26, 31, 32, 35, 36, 37, 38, 43, 45, 49, 50,\n",
        "                         51, 52, 53, 54, 59, 61, 63, 66, 67, 69, 72, 77, 78, 79, 81, 83, 84, 86, 88, \n",
        "                         91, 92, 93, 94, 96, 98, 104, 106, 107, 108, 112, 115, 116, 117, 120, 121, 123,\n",
        "                         128, 129, 130, 131]\n",
        "for i in artDataset:\n",
        "  order_binary = [[0 for x in range(135)] for y in range(1)]\n",
        "  data = i.split(\" \")\n",
        "  data.remove('')\n",
        "  for j in data:\n",
        "    m = int(j)-1\n",
        "    if (order_binary[0][m]==0):\n",
        "      order_binary[0][m]+=1\n",
        "    order_count+=1\n",
        "  orders_binary.append(order_binary)\n",
        "count = 0\n",
        "print(orders_binary[0])\n",
        "import numpy as np\n",
        "\n",
        "orders_bin = np.array(orders_binary)\n",
        "remove_cat = orders_bin.T\n",
        "acceptedCategories = [24,83,123,120,21,84,115,107,91,112,86,31,116,37,78,96,\n",
        "                         67,16,121,77,98,54,72,50,108,36,52,63,69,17,61,66,4,\n",
        "                         32,130,53,106,3,38,81,88,117,131,128,92,19,104,49,59,\n",
        "                         26,43,9,129,35,93,79,51,45,94,23]\n",
        "m=0\n",
        "count=0\n",
        "orders_binary_T=remove_cat.tolist()\n",
        "accorders_T=[]\n",
        "for i in orders_binary_T:\n",
        "    if (count+1 in acceptedCategories):\n",
        "        m+=1\n",
        "        accorders_T.append(i)\n",
        "    count+=1\n",
        "print(\"orders:\",len(accorders_T))\n",
        "orders_60_T = np.array(accorders_T)\n",
        "orders_60 = orders_60_T.T\n",
        "count=0\n",
        "orders_60Art = orders_60"
      ],
      "execution_count": null,
      "outputs": [
        {
          "output_type": "stream",
          "text": [
            "[[0, 0, 0, 0, 0, 0, 0, 0, 0, 0, 0, 0, 0, 0, 0, 0, 0, 0, 0, 0, 1, 0, 0, 1, 0, 0, 0, 0, 0, 0, 0, 1, 0, 0, 0, 0, 0, 0, 0, 0, 0, 0, 0, 0, 0, 0, 0, 0, 1, 0, 0, 0, 0, 0, 0, 0, 0, 0, 0, 0, 0, 0, 0, 0, 0, 0, 0, 0, 0, 0, 0, 0, 0, 0, 0, 0, 0, 0, 0, 0, 0, 0, 0, 0, 0, 0, 0, 0, 0, 0, 0, 1, 0, 0, 0, 1, 0, 0, 0, 0, 0, 0, 0, 0, 0, 0, 0, 0, 0, 0, 0, 0, 0, 0, 0, 0, 0, 0, 0, 0, 0, 0, 1, 0, 0, 0, 0, 0, 0, 0, 0, 0, 0, 0, 0]]\n",
            "orders: 60\n"
          ],
          "name": "stdout"
        }
      ]
    },
    {
      "cell_type": "code",
      "metadata": {
        "colab": {
          "background_save": true
        },
        "id": "N3d_JFG7aCB7",
        "outputId": "20f29363-5372-4f3c-8335-d1cd289d3e68"
      },
      "source": [
        "#Create list of art order sizes\n",
        "lengths=[]\n",
        "for i in artDataset:\n",
        "  lengths.append(i.count(\" \"))"
      ],
      "execution_count": null,
      "outputs": [
        {
          "output_type": "stream",
          "text": [
            "21 24 32 49 92 96 123 \n",
            "7\n"
          ],
          "name": "stdout"
        }
      ]
    },
    {
      "cell_type": "code",
      "metadata": {
        "colab": {
          "background_save": true
        },
        "id": "-TtCn8RCZ4DF",
        "outputId": "73b37d35-6601-42f9-e01e-8c3b26b15384"
      },
      "source": [
        "#distribution of the data length\n",
        "import numpy as np\n",
        "import random\n",
        "from matplotlib import pyplot as plt\n",
        "\n",
        "\n",
        "# fixed bin size\n",
        "bins = np.arange(-100, 100, 1) # fixed bin size\n",
        "\n",
        "plt.xlim([0, 25])\n",
        "\n",
        "plt.hist(lengths, bins=bins, alpha=0.5)\n",
        "plt.title('Distribution Lengths Orders')\n",
        "plt.xlabel('Order Size')\n",
        "plt.ylabel('Count')\n",
        "\n",
        "plt.show()"
      ],
      "execution_count": null,
      "outputs": [
        {
          "output_type": "display_data",
          "data": {
            "image/png": "[encoded data removed]",
            "text/plain": [
              "<Figure size 432x288 with 1 Axes>"
            ]
          },
          "metadata": {
            "tags": []
          }
        }
      ]
    },
    {
      "cell_type": "code",
      "metadata": {
        "id": "R6_KsLSCCnqh"
      },
      "source": [
        "#Creates arra\n",
        "import csv\n",
        "train_orders=[]\n",
        "with open('/content/order_products__train.csv') as csv_file:\n",
        "    csv_reader = csv.reader(csv_file, delimiter=',')\n",
        "    line_count = 0\n",
        "    order_count=0\n",
        "    prev=-1\n",
        "    for row in csv_reader:\n",
        "        if line_count == 0:\n",
        "            print(f'Column names are {\", \".join(row)}')\n",
        "            line_count += 1\n",
        "        else:\n",
        "            #print(f'\\t product_id :{row[0]}| product_name: {row[1]} | aisle_id: {row[2]} | department_id : {row[3]}')\n",
        "                if (int(row[0])!=prev):\n",
        "                    order_count+=1\n",
        "                order_basket = [int(row[0]),getAisleID(int(row[1]))]\n",
        "                train_orders.append(order_basket)\n",
        "                prev = int(row[0])\n",
        "                line_count += 1\n",
        "                if(order_count==10000):\n",
        "                    break\n",
        "    print(f'Processed {line_count} lines.')\n",
        "\n",
        "orders=[]\n",
        "order_binary=[[0 for x in range(135)] for y in range(1)]\n",
        "orders_binary = []\n",
        "for i in train_orders: \n",
        "    if(int(i[0])!=prev):\n",
        "        baskets=[]\n",
        "        orders.append(baskets)\n",
        "        order_binary = [[0 for x in range(135)] for y in range(1)]\n",
        "        orders_binary.append(order_binary)\n",
        "    baskets.append(i[1])\n",
        "    m = int(i[1])-1\n",
        "    if (order_binary[0][m]==0):\n",
        "        order_binary[0][m]+=1\n",
        "    order_count+=1\n",
        "    prev = int(i[0])\n",
        "print(orders_binary[0])\n",
        "#create orders of only 60 categories with the new number for categorie equal to the i-th accepted categorie in order of its' original number\n",
        "import numpy as np\n",
        "orders_bin = np.array(orders_binary)\n",
        "remove_cat = orders_bin.T\n",
        "acceptedCategories = [24,83,123,120,21,84,115,107,91,112,86,31,116,37,78,96,\n",
        "                         67,16,121,77,98,54,72,50,108,36,52,63,69,17,61,66,4,\n",
        "                         32,130,53,106,3,38,81,88,117,131,128,92,19,104,49,59,\n",
        "                         26,43,9,129,35,93,79,51,45,94,23]\n",
        "m=0\n",
        "count=0\n",
        "orders_binary_T=remove_cat.tolist()\n",
        "accorders_T=[]\n",
        "for i in orders_binary_T:\n",
        "    if (count+1 in acceptedCategories):\n",
        "        m+=1\n",
        "        accorders_T.append(i)\n",
        "    count+=1\n",
        "print(\"orders:\",len(accorders_T))\n",
        "orders_60_T = np.array(accorders_T)\n",
        "orders_60 = orders_60_T.T\n",
        "count=0"
      ],
      "execution_count": null,
      "outputs": []
    },
    {
      "cell_type": "code",
      "metadata": {
        "id": "F2Nk7XmSLi-E"
      },
      "source": [
        "#Calculate AD for artificial orders\n",
        "import numpy as np\n",
        "AD=np.zeros((500,10000,1,60))\n",
        "for i in range(len(orders_60Art)):\n",
        "    AD += abs(orders_60[i][0]-orders_60Art[i][0])\n",
        "AD=AD/len(orders_60Art)\n",
        "sumAdRbm = AD.sum(axis=0)\n",
        "sumAdRbm = sumAdRbm.sum(axis=0)\n",
        "adRbm = sum(sumAdRbm)\n",
        "print(adRbm)"
      ],
      "execution_count": null,
      "outputs": []
    },
    {
      "cell_type": "code",
      "metadata": {
        "id": "3vaFZ8FQMukW"
      },
      "source": [
        "#Cross-effects calculations function\n",
        "import pandas as pd\n",
        "import random\n",
        "import numpy as np\n",
        "from numpy import random\n",
        "\n",
        "class getCrossEffects():\n",
        "  def __init__(self, target, k, n):\n",
        "    self.n = n\n",
        "    self.target = target\n",
        "    self.k = k\n",
        "    self.fullTokens = [24,83,123,120,21,84,115,107,91,112,86,31,116,37,78,96,\n",
        "                         67,16,121,77,98,54,72,50,108,36,52,63,69,17,61,66,4,\n",
        "                         32,130,53,106,3,38,81,88,117,131,128,92,19,104,49,59,\n",
        "                         26,43,9,129,35,93,79,51,45,94,23]\n",
        "    self.tokensRest = [e for e in self.fullTokens if e not in (target, k)]\n",
        "\n",
        "    #self.tokens = self.fullTokens.remove(self.target)\n",
        "    #self.tokensRest = self.tokens.remove(self.k)\n",
        "\n",
        "  def getRandomOrders(self):\n",
        "    random_ordersNoK = []\n",
        "    random_ordersWithK = []\n",
        "    for i in range(self.n):\n",
        "      orderNoK = \"\"\n",
        "      orderWithK = \"\"\n",
        "      order_size = random.randint(2,20)\n",
        "      if(order_size<0):\n",
        "        order_size=2\n",
        "      target_element = random.randint(0, order_size)\n",
        "      k_element = random.randint(0, order_size)\n",
        "      while(k_element == target_element):\n",
        "        k_element = random.randint(0, order_size)\n",
        "      for j in range(int(order_size)):\n",
        "        random_element = random.choice(self.tokensRest)\n",
        "        if(j == k_element):\n",
        "          orderWithK+= str(self.k) + \" \"\n",
        "          orderNoK += str(random_element)+ \" \"\n",
        "          continue\n",
        "        if(j == target_element):\n",
        "          orderNoK+=\"[MASK]\" + \" \"\n",
        "          orderWithK += \"[MASK]\"+\" \"\n",
        "        orderNoK += str(random_element)+ \" \"\n",
        "        orderWithK += str(random_element)+\" \"\n",
        "      random_ordersNoK.append(orderNoK)\n",
        "      random_ordersWithK.append(orderWithK)\n",
        "    return random_ordersNoK, random_ordersWithK\n",
        "\n",
        "  def scoreYesK(self, random_ordersWithK):\n",
        "    sumYesK=0\n",
        "    for order in random_ordersWithK:\n",
        "      y = fill_mask.__call__(order, targets=str(self.target)+ \" \")\n",
        "      df = pd.DataFrame(y)\n",
        "      sumYesK +=df.loc[0]['score']\n",
        "    return sumYesK\n",
        "\n",
        "  def scoreNoK(self, random_ordersNoK):\n",
        "    sumNoK=0\n",
        "    for order in random_ordersNoK:\n",
        "      y = fill_mask.__call__(order, targets=str(self.target))\n",
        "      df = pd.DataFrame(y)\n",
        "      sumNoK +=df.loc[0]['score']\n",
        "    return sumNoK\n",
        "  def getPercentage(self):\n",
        "    random_ordersNoK, random_ordersWithK = self.getRandomOrders()\n",
        "    change = self.main()\n",
        "    \n",
        "    return perc\n",
        "\n",
        "  def main(self):\n",
        "    random_ordersNoK, random_ordersWithK = self.getRandomOrders()\n",
        "    scoreYesK = self.scoreYesK(random_ordersWithK)\n",
        "    scoreNoK = self.scoreNoK(random_ordersNoK)\n",
        "    crossProb = (scoreYesK - scoreNoK)/len(random_ordersWithK)\n",
        "    perc = crossProb / (self.scoreNoK(random_ordersNoK)/len(random_ordersNoK))\n",
        "    return crossProb, perc"
      ],
      "execution_count": null,
      "outputs": []
    },
    {
      "cell_type": "code",
      "metadata": {
        "id": "msckbSfMiqN-"
      },
      "source": [
        "#Write the cross-effects\n",
        "import math\n",
        "import time\n",
        "import math\n",
        "Tokens = [24,83,123,120,21,84,115,107,91,112,86,31,116,37,78,96,\n",
        "                         67,16,121,77,98,54,72,50,108,36,52,63,69,17,61,66,4,\n",
        "                         32,130,53,106,3,38,81,88,117,131,128,92,19,104,49,59,\n",
        "                         26,43,9,129,35,93,79,51,45,94,23]\n",
        "Tokens.sort()\n",
        "tStats = np.zeros((60,60))\n",
        "StDevs = np.zeros((60,60))\n",
        "averages = np.zeros((60,60))\n",
        "t0 = time.time()\n",
        "count = 30\n",
        "for i in range(6,12):\n",
        "  nameCrossEffects = \"tstatsBert\" + str(i) + \".txt\"\n",
        "  nameAverage = \"averagesBert\"+ str(i) + \".txt\"\n",
        "  namePercIncr = \"percentageBert\"+ str(i) + \".txt\"\n",
        "  #tStatsBERT = open(nameCrossEffects,\"w\")\n",
        "  averagesBERT = open(nameAverage,\"w\")\n",
        "  percentageIncreasingBERT = open(namePercIncr,\"w\")\n",
        "  for z in range(5):\n",
        "    for j in range(60):\n",
        "      average=[]\n",
        "      totalP = 0\n",
        "      average = 0\n",
        "      tStat = 0\n",
        "      totalperc=0\n",
        "      x = []\n",
        "      cross = getCrossEffects(Tokens[count],Tokens[j],25)\n",
        "      datasets = 1\n",
        "      print(j)\n",
        "      for k in range(datasets):\n",
        "        x_i,perc = cross.main()\n",
        "        x.append(x_i)\n",
        "        totalP +=x_i\n",
        "        totalperc+=perc\n",
        "      average = totalP/ datasets\n",
        "      averagePerc = totalperc/datasets\n",
        "      #std = np.sqrt(np.sum(np.power(np.array(x) - average,2))/datasets)\n",
        "      #tStat = average / (std/math.sqrt(datasets))\n",
        "      #tStatsBERT.write(str(tStat)+\", \")\n",
        "      averagesBERT.write(str(average)+\", \")\n",
        "      percentageIncreasingBERT.write(str(averagePerc)+\", \")\n",
        "    print(count,j)\n",
        "    count +=1\n",
        "  averagesBERT.close()\n",
        "  #tStatsBERT.close()\n",
        "  percentageIncreasingBERT.close()\n",
        "print(\"cat :\", i , \" calculated\" )\n"
      ],
      "execution_count": null,
      "outputs": []
    }
  ]
}